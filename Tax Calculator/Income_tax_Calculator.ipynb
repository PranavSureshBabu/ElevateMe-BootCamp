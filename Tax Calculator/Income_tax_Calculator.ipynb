{
  "nbformat": 4,
  "nbformat_minor": 0,
  "metadata": {
    "colab": {
      "provenance": []
    },
    "kernelspec": {
      "name": "python3",
      "display_name": "Python 3"
    },
    "language_info": {
      "name": "python"
    }
  },
  "cells": [
    {
      "cell_type": "code",
      "execution_count": null,
      "metadata": {
        "id": "SC6k-to6KYTO"
      },
      "outputs": [],
      "source": [
        "def old_tax_regime(income, deduction):\n",
        "    tax_income = income - deduction\n",
        "    if tax_income <= 250000:\n",
        "        tax_pay = 0\n",
        "    elif tax_income <= 500000:\n",
        "        tax_pay = (tax_income - 250000) * 0.05\n",
        "    elif tax_income <= 1000000:\n",
        "        tax_pay = (tax_income - 500000) * 0.2 + 12500\n",
        "    else:\n",
        "        tax_pay = (tax_income - 1000000) * 0.3 + 112500\n",
        "\n",
        "    cess = tax_pay * 0.04\n",
        "    return tax_pay, cess\n",
        "\n",
        "\n",
        "def new_tax_regime(income):\n",
        "    tax_income = income\n",
        "    if tax_income <= 250000:\n",
        "        tax_pay = 0\n",
        "    elif tax_income <= 500000:\n",
        "        tax_pay = (tax_income - 250000) * 0.05\n",
        "    elif tax_income <= 750000:\n",
        "        tax_pay = (tax_income - 500000) * 0.1 + 12500\n",
        "    elif tax_income <= 1000000:\n",
        "        tax_pay = (tax_income - 750000) * 0.15 + 37500\n",
        "    elif tax_income <= 1250000:\n",
        "        tax_pay = (tax_income - 1000000) * 0.20 + 75000\n",
        "    elif tax_income <= 1500000:\n",
        "        tax_pay = (tax_income - 1250000) * 0.25 + 125000\n",
        "    else:\n",
        "        tax_pay = (income - 1500000) * 0.30 + 187500\n",
        "\n",
        "    cess = tax_pay * 0.04\n",
        "    return tax_pay, cess"
      ]
    },
    {
      "cell_type": "code",
      "source": [
        "annual_salary = float(input(\"Enter your annual salary: ₹\"))\n",
        "deduction = float(input(\"Enter total deductions (Old Regime): ₹\"))\n",
        "\n",
        "# Calculate tax\n",
        "old_tax, cess_old = old_tax_regime(annual_salary, deduction)\n",
        "new_tax, cess_new = new_tax_regime(annual_salary)\n",
        "\n",
        "# Final tax amounts\n",
        "total_old_tax = old_tax + cess_old\n",
        "total_new_tax = new_tax + cess_new\n",
        "\n",
        "# Take-home salaries\n",
        "take_home_old = annual_salary - total_old_tax\n",
        "take_home_new = annual_salary - total_new_tax\n",
        "\n",
        "# Output\n",
        "print(\"\\n--- Tax Comparison ---\")\n",
        "print(f\"Old Regime:\")\n",
        "print(f\"Base Tax = ₹{old_tax:.2f}\")\n",
        "print(f\"Cess (4%) = ₹{cess_old:.2f}\")\n",
        "print(f\"Total Tax = ₹{total_old_tax:.2f}\")\n",
        "print(f\"Take-home Salary = ₹{take_home_old:.2f}\")\n",
        "\n",
        "print(f\"\\nNew Regime:\")\n",
        "print(f\"Base Tax = ₹{new_tax:.2f}\")\n",
        "print(f\"Cess (4%) = ₹{cess_new:.2f}\")\n",
        "print(f\"Total Tax = ₹{total_new_tax:.2f}\")\n",
        "print(f\"Take-home Salary = ₹{take_home_new:.2f}\")\n",
        "\n",
        "# Comparison\n",
        "print(\"\\n--- Recommendation ---\")\n",
        "if total_old_tax < total_new_tax:\n",
        "    savings = total_new_tax - total_old_tax\n",
        "    print(f\"Old Regime is better. You save ₹{savings:.2f}\")\n",
        "elif total_new_tax < total_old_tax:\n",
        "    savings = total_old_tax - total_new_tax\n",
        "    print(f\"New Regime is better. You save ₹{savings:.2f}\")\n",
        "else:\n",
        "    print(\"Both regimes result in the same tax liability.\")\n"
      ],
      "metadata": {
        "colab": {
          "base_uri": "https://localhost:8080/"
        },
        "id": "D-DJ60foSYE8",
        "outputId": "01bac4d3-2101-4339-e8a2-3781d9dc54dc"
      },
      "execution_count": null,
      "outputs": [
        {
          "output_type": "stream",
          "name": "stdout",
          "text": [
            "Enter your annual salary: ₹1200000\n",
            "Enter total deductions (Old Regime): ₹150000\n",
            "\n",
            "--- Tax Comparison ---\n",
            "Old Regime:\n",
            "Base Tax = ₹127500.00\n",
            "Cess (4%) = ₹5100.00\n",
            "Total Tax = ₹132600.00\n",
            "Take-home Salary = ₹1067400.00\n",
            "\n",
            "New Regime:\n",
            "Base Tax = ₹115000.00\n",
            "Cess (4%) = ₹4600.00\n",
            "Total Tax = ₹119600.00\n",
            "Take-home Salary = ₹1080400.00\n",
            "\n",
            "--- Recommendation ---\n",
            "New Regime is better. You save ₹13000.00\n"
          ]
        }
      ]
    },
    {
      "cell_type": "code",
      "source": [],
      "metadata": {
        "id": "7SmH82xcWf_u"
      },
      "execution_count": null,
      "outputs": []
    }
  ]
}