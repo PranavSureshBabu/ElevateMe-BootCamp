{
  "nbformat": 4,
  "nbformat_minor": 0,
  "metadata": {
    "colab": {
      "provenance": []
    },
    "kernelspec": {
      "name": "python3",
      "display_name": "Python 3"
    },
    "language_info": {
      "name": "python"
    }
  },
  "cells": [
    {
      "cell_type": "code",
      "execution_count": null,
      "metadata": {
        "colab": {
          "base_uri": "https://localhost:8080/"
        },
        "id": "RJfapjTIyHOX",
        "outputId": "8acd4026-b464-4c98-bfdf-ac76c4c4678b"
      },
      "outputs": [
        {
          "output_type": "stream",
          "name": "stdout",
          "text": [
            "Enter your move: Rock, paper, Scissors\n",
            "Your move: Rock\n",
            "Computer chose: rock\n",
            "It's a tie!\n",
            "\n",
            "Do you want to play again? (yes/no): Yes\n",
            "Enter your move: Rock, paper, Scissors\n",
            "Your move: Paper\n",
            "Computer chose: paper\n",
            "It's a tie!\n",
            "\n",
            "Do you want to play again? (yes/no): no\n",
            "Thanks for playing!\n"
          ]
        }
      ],
      "source": [
        "import random\n",
        "\n",
        "while True:\n",
        "  print('Enter your move: Rock, paper, Scissors')\n",
        "\n",
        "  user_move = input(\"Your move: \").lower()\n",
        "  possible_moves = [\"rock\", \"paper\", \"scissors\"]\n",
        "  computer_move = random.choice(possible_moves)\n",
        "\n",
        "  print(\"Computer chose:\", computer_move)\n",
        "\n",
        "  if user_move not in possible_moves:\n",
        "    print(\"Invalid move. Please choose rock, paper, or scissors.\")\n",
        "  elif user_move == computer_move:\n",
        "    print(\"It's a tie!\")\n",
        "  elif user_move == \"rock\":\n",
        "    if computer_move == \"scissors\":\n",
        "      print(\"You win!\")\n",
        "    else:\n",
        "        print(\"You lose!\")\n",
        "  elif user_move == \"paper\":\n",
        "    if computer_move == \"rock\":\n",
        "      print(\"You win!\")\n",
        "    else:\n",
        "        print(\"You lose!\")\n",
        "  elif user_move == \"scissors\":\n",
        "    if computer_move == \"paper\":\n",
        "      print(\"You win!\")\n",
        "    else:\n",
        "        print(\"You lose!\")\n",
        "\n",
        "  play_again = input(\"\\nDo you want to play again? (yes/no): \").lower()\n",
        "  if play_again != \"yes\":\n",
        "    print(\"Thanks for playing!\")\n",
        "    break"
      ]
    },
    {
      "cell_type": "code",
      "source": [
        "\n"
      ],
      "metadata": {
        "id": "qhMnq2YA0Bx6"
      },
      "execution_count": null,
      "outputs": []
    }
  ]
}