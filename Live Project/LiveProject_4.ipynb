{
  "cells": [
    {
      "cell_type": "markdown",
      "source": [
        "## Live Project \n",
        "\n",
        "### Objective \n",
        "Sales director of the company is tasked with developing key sales statistical and analytical insights to grow the company to make informed business decisions. These analyses serves as evaluating agent performance, revenue, expenses and probability. These insights will help them to steer the agency towards sustained growth and success in dynamic entertainment landscape.\n"
      ],
      "metadata": {
        "nteract": {
          "transient": {
            "deleting": false
          }
        }
      }
    },
    {
      "cell_type": "markdown",
      "source": [
        "## Establishing SQL connection to Machine Learning"
      ],
      "metadata": {
        "nteract": {
          "transient": {
            "deleting": false
          }
        }
      }
    },
    {
      "cell_type": "code",
      "source": [
        "import pandas as pd\n",
        "from sqlalchemy import create_engine # Takes in the connection URL and returns SQLALchemy Engine\n",
        "import urllib #Handling URLs, parsing them and sending HTTP request\n",
        "\n",
        "# DB credentials\n",
        "server = 'qaececrm-s1.database.windows.net'  \n",
        "database = 'QAECECRM_June2025'\n",
        "username = 'dbadmin'\n",
        "password = 'DashTech1234'\n",
        "driver = 'ODBC Driver 17 for SQL Server'\n",
        "\n",
        "# Create connection string\n",
        "params = urllib.parse.quote_plus(\n",
        "    f\"DRIVER={driver};SERVER={server};DATABASE={database};UID={username};PWD={password}\"\n",
        ")\n",
        "\n",
        "engine = create_engine(f\"mssql+pyodbc:///?odbc_connect={params}\")"
      ],
      "outputs": [],
      "execution_count": 1,
      "metadata": {
        "gather": {
          "logged": 1751653554274
        }
      }
    },
    {
      "cell_type": "markdown",
      "source": [
        "### Collecting and Generating the Tables From the Database"
      ],
      "metadata": {
        "nteract": {
          "transient": {
            "deleting": false
          }
        }
      }
    },
    {
      "cell_type": "code",
      "source": [
        "from sqlalchemy import text #to run raw SQL queries\n",
        "\n",
        "def get_all_table(engine):\n",
        "    with engine.connect() as conn:\n",
        "        result = conn.execute(text(\"\"\"SELECT t.name as table_name\n",
        "                                  FROM sys.tables t\n",
        "                                  ORDER BY t.name\"\"\"))\n",
        "        table_list = [row[0] for row in result]\n",
        "        table_df = pd.DataFrame(table_list, columns=['Name of the tables'])\n",
        "    return table_df    \n",
        "\n",
        "\n",
        "table_df = get_all_table(engine)\n",
        "#table_list = table_df['Name of the tables'].tolist()\n",
        "#print(table_list)\n",
        "#Count of the tables\n",
        "print(f\"Total number of tables presented: {len(table_df)}\")\n",
        "\n",
        "table_df"
      ],
      "outputs": [
        {
          "output_type": "stream",
          "name": "stdout",
          "text": "Total number of tables presented: 189\n"
        },
        {
          "output_type": "execute_result",
          "execution_count": 2,
          "data": {
            "text/plain": "               Name of the tables\n0                 AgentCommission\n1          AgentCommissionProgram\n2         AgentCommissionTypeData\n3                 AgentPayrollLog\n4                           Alert\n..                            ...\n184              VenueDescription\n185                VenueGenreType\n186              VenueRequirement\n187  VenueRequirementNotification\n188                       WebLink\n\n[189 rows x 1 columns]",
            "text/html": "<div>\n<style scoped>\n    .dataframe tbody tr th:only-of-type {\n        vertical-align: middle;\n    }\n\n    .dataframe tbody tr th {\n        vertical-align: top;\n    }\n\n    .dataframe thead th {\n        text-align: right;\n    }\n</style>\n<table border=\"1\" class=\"dataframe\">\n  <thead>\n    <tr style=\"text-align: right;\">\n      <th></th>\n      <th>Name of the tables</th>\n    </tr>\n  </thead>\n  <tbody>\n    <tr>\n      <th>0</th>\n      <td>AgentCommission</td>\n    </tr>\n    <tr>\n      <th>1</th>\n      <td>AgentCommissionProgram</td>\n    </tr>\n    <tr>\n      <th>2</th>\n      <td>AgentCommissionTypeData</td>\n    </tr>\n    <tr>\n      <th>3</th>\n      <td>AgentPayrollLog</td>\n    </tr>\n    <tr>\n      <th>4</th>\n      <td>Alert</td>\n    </tr>\n    <tr>\n      <th>...</th>\n      <td>...</td>\n    </tr>\n    <tr>\n      <th>184</th>\n      <td>VenueDescription</td>\n    </tr>\n    <tr>\n      <th>185</th>\n      <td>VenueGenreType</td>\n    </tr>\n    <tr>\n      <th>186</th>\n      <td>VenueRequirement</td>\n    </tr>\n    <tr>\n      <th>187</th>\n      <td>VenueRequirementNotification</td>\n    </tr>\n    <tr>\n      <th>188</th>\n      <td>WebLink</td>\n    </tr>\n  </tbody>\n</table>\n<p>189 rows × 1 columns</p>\n</div>"
          },
          "metadata": {}
        }
      ],
      "execution_count": 2,
      "metadata": {
        "gather": {
          "logged": 1751653554692
        }
      }
    },
    {
      "cell_type": "code",
      "source": [
        "def load_table(engine, table_name):\n",
        "    with engine.connect() as conn:\n",
        "        query = text(f\"SELECT * FROM {table_name}\")\n",
        "        df = pd.read_sql(query, conn) #Read SQL database \n",
        "    return df"
      ],
      "outputs": [],
      "execution_count": 3,
      "metadata": {
        "gather": {
          "logged": 1751653554836
        }
      }
    },
    {
      "cell_type": "markdown",
      "source": [
        "##### To build a classification model that predicts whether a contract will be finalized (signed) or not based on offer, agent, artist, and venue-related features."
      ],
      "metadata": {
        "nteract": {
          "transient": {
            "deleting": false
          }
        }
      }
    },
    {
      "cell_type": "code",
      "source": [
        "table_name = \"Contract\" #Mention the table name that we want to mention\n",
        "df = load_table(engine, table_name)"
      ],
      "outputs": [],
      "execution_count": 4,
      "metadata": {
        "gather": {
          "logged": 1751653570877
        }
      }
    },
    {
      "cell_type": "code",
      "source": [
        "df.head()"
      ],
      "outputs": [
        {
          "output_type": "execute_result",
          "execution_count": 5,
          "data": {
            "text/plain": "   ContractId  AgentId  OfficeId  ContractStatusId  LineOfBusinessId   Gross  \\\n0      100304        0      17.0                 3               2.0  1700.0   \n1      101731      419       1.0                 6               3.0   550.0   \n2      103324        0       1.0                 4               3.0  2000.0   \n3      103331      313       1.0                 5               3.0  1500.0   \n4      103526        0       1.0                 3               3.0  1000.0   \n\n   BlueCardId  LeadSourceId  ContractTypeId IsReseller  ...  CreatedDate  \\\n0         NaN           3.0             1.0       True  ...   1988-09-15   \n1         NaN           5.0             1.0       True  ...   1989-01-03   \n2         NaN           5.0             1.0      False  ...   2001-04-28   \n3         NaN           5.0             1.0       True  ...   1989-04-28   \n4         NaN           5.0             1.0      False  ...   1989-05-15   \n\n  CreatedById             UpdatedDate UpdatedById ArchiveDate OriginalGross  \\\n0           0 2018-06-19 07:31:43.930    999999.0  2018-06-02           NaN   \n1           0 2018-06-19 07:31:43.930    999999.0  2018-06-02           NaN   \n2           0 2018-06-02 17:22:01.970    999999.0  2018-06-02           NaN   \n3           0 2018-06-19 07:31:43.930    999999.0  2018-06-02           NaN   \n4           0 2018-06-02 17:22:01.970    999999.0  2018-06-02           NaN   \n\n  IsProblemExcluded EventDescription  IsWillAgentAttendTheEvent  IsSalaried  \n0             False             None                      False       False  \n1             False             None                      False       False  \n2             False             None                      False       False  \n3             False             None                      False       False  \n4             False             None                      False       False  \n\n[5 rows x 70 columns]",
            "text/html": "<div>\n<style scoped>\n    .dataframe tbody tr th:only-of-type {\n        vertical-align: middle;\n    }\n\n    .dataframe tbody tr th {\n        vertical-align: top;\n    }\n\n    .dataframe thead th {\n        text-align: right;\n    }\n</style>\n<table border=\"1\" class=\"dataframe\">\n  <thead>\n    <tr style=\"text-align: right;\">\n      <th></th>\n      <th>ContractId</th>\n      <th>AgentId</th>\n      <th>OfficeId</th>\n      <th>ContractStatusId</th>\n      <th>LineOfBusinessId</th>\n      <th>Gross</th>\n      <th>BlueCardId</th>\n      <th>LeadSourceId</th>\n      <th>ContractTypeId</th>\n      <th>IsReseller</th>\n      <th>...</th>\n      <th>CreatedDate</th>\n      <th>CreatedById</th>\n      <th>UpdatedDate</th>\n      <th>UpdatedById</th>\n      <th>ArchiveDate</th>\n      <th>OriginalGross</th>\n      <th>IsProblemExcluded</th>\n      <th>EventDescription</th>\n      <th>IsWillAgentAttendTheEvent</th>\n      <th>IsSalaried</th>\n    </tr>\n  </thead>\n  <tbody>\n    <tr>\n      <th>0</th>\n      <td>100304</td>\n      <td>0</td>\n      <td>17.0</td>\n      <td>3</td>\n      <td>2.0</td>\n      <td>1700.0</td>\n      <td>NaN</td>\n      <td>3.0</td>\n      <td>1.0</td>\n      <td>True</td>\n      <td>...</td>\n      <td>1988-09-15</td>\n      <td>0</td>\n      <td>2018-06-19 07:31:43.930</td>\n      <td>999999.0</td>\n      <td>2018-06-02</td>\n      <td>NaN</td>\n      <td>False</td>\n      <td>None</td>\n      <td>False</td>\n      <td>False</td>\n    </tr>\n    <tr>\n      <th>1</th>\n      <td>101731</td>\n      <td>419</td>\n      <td>1.0</td>\n      <td>6</td>\n      <td>3.0</td>\n      <td>550.0</td>\n      <td>NaN</td>\n      <td>5.0</td>\n      <td>1.0</td>\n      <td>True</td>\n      <td>...</td>\n      <td>1989-01-03</td>\n      <td>0</td>\n      <td>2018-06-19 07:31:43.930</td>\n      <td>999999.0</td>\n      <td>2018-06-02</td>\n      <td>NaN</td>\n      <td>False</td>\n      <td>None</td>\n      <td>False</td>\n      <td>False</td>\n    </tr>\n    <tr>\n      <th>2</th>\n      <td>103324</td>\n      <td>0</td>\n      <td>1.0</td>\n      <td>4</td>\n      <td>3.0</td>\n      <td>2000.0</td>\n      <td>NaN</td>\n      <td>5.0</td>\n      <td>1.0</td>\n      <td>False</td>\n      <td>...</td>\n      <td>2001-04-28</td>\n      <td>0</td>\n      <td>2018-06-02 17:22:01.970</td>\n      <td>999999.0</td>\n      <td>2018-06-02</td>\n      <td>NaN</td>\n      <td>False</td>\n      <td>None</td>\n      <td>False</td>\n      <td>False</td>\n    </tr>\n    <tr>\n      <th>3</th>\n      <td>103331</td>\n      <td>313</td>\n      <td>1.0</td>\n      <td>5</td>\n      <td>3.0</td>\n      <td>1500.0</td>\n      <td>NaN</td>\n      <td>5.0</td>\n      <td>1.0</td>\n      <td>True</td>\n      <td>...</td>\n      <td>1989-04-28</td>\n      <td>0</td>\n      <td>2018-06-19 07:31:43.930</td>\n      <td>999999.0</td>\n      <td>2018-06-02</td>\n      <td>NaN</td>\n      <td>False</td>\n      <td>None</td>\n      <td>False</td>\n      <td>False</td>\n    </tr>\n    <tr>\n      <th>4</th>\n      <td>103526</td>\n      <td>0</td>\n      <td>1.0</td>\n      <td>3</td>\n      <td>3.0</td>\n      <td>1000.0</td>\n      <td>NaN</td>\n      <td>5.0</td>\n      <td>1.0</td>\n      <td>False</td>\n      <td>...</td>\n      <td>1989-05-15</td>\n      <td>0</td>\n      <td>2018-06-02 17:22:01.970</td>\n      <td>999999.0</td>\n      <td>2018-06-02</td>\n      <td>NaN</td>\n      <td>False</td>\n      <td>None</td>\n      <td>False</td>\n      <td>False</td>\n    </tr>\n  </tbody>\n</table>\n<p>5 rows × 70 columns</p>\n</div>"
          },
          "metadata": {}
        }
      ],
      "execution_count": 5,
      "metadata": {
        "gather": {
          "logged": 1751653571250
        }
      }
    },
    {
      "cell_type": "code",
      "source": [
        "df.shape"
      ],
      "outputs": [
        {
          "output_type": "execute_result",
          "execution_count": 6,
          "data": {
            "text/plain": "(303633, 70)"
          },
          "metadata": {}
        }
      ],
      "execution_count": 6,
      "metadata": {
        "gather": {
          "logged": 1751653571836
        }
      }
    },
    {
      "cell_type": "code",
      "source": [
        "columns_to_select = ['Gross', 'AgentId', 'OfficeId', 'LineOfBusinessId', 'LeadSourceId', 'ContractTypeId',\n",
        "    'IsReseller', 'IsBuySell', 'IsBackendDeal', 'EventTypeId', 'TimezoneId', 'IsPublicEvent',\n",
        "    'VenueId', 'VenueCapacity', 'VenueSettingId', 'IsSettingCovered', 'ECECommissionRate',\n",
        "    'IsCommissionPercentage', 'HasIssues', 'IsNoIssue', 'IsWillAgentAttendTheEvent', 'IsSalaried',\n",
        "    'CreatedDate', 'ContractDueDate', 'IssueDate', 'CancellationDate',\n",
        "    'PresenterTypeId', 'PresenterMailingStateId', 'VenuePhysicalStateId']\n",
        "df_contract = df[columns_to_select]"
      ],
      "outputs": [],
      "execution_count": 7,
      "metadata": {
        "gather": {
          "logged": 1751653572285
        }
      }
    },
    {
      "cell_type": "markdown",
      "source": [
        "#### Target Variable"
      ],
      "metadata": {
        "nteract": {
          "transient": {
            "deleting": false
          }
        }
      }
    },
    {
      "cell_type": "code",
      "source": [
        "status_mapping = {\n",
        "    1: 0,  # Draft / Pending\n",
        "    2: 0,  # In Progress\n",
        "    3: 1,  # Finalized / Signed\n",
        "    4: 0,  # Cancelled\n",
        "    5: 0,  # Withdrawn\n",
        "    6: 1,  # Approved / Signed\n",
        "    7: 0   # Rejected\n",
        "}\n",
        "\n",
        "# Create the new binary target column\n",
        "df_contract['IsFinalized'] = df['ContractStatusId'].map(status_mapping)"
      ],
      "outputs": [
        {
          "output_type": "stream",
          "name": "stderr",
          "text": "/tmp/ipykernel_2964/3106077432.py:12: SettingWithCopyWarning: \nA value is trying to be set on a copy of a slice from a DataFrame.\nTry using .loc[row_indexer,col_indexer] = value instead\n\nSee the caveats in the documentation: https://pandas.pydata.org/pandas-docs/stable/user_guide/indexing.html#returning-a-view-versus-a-copy\n  df_contract['IsFinalized'] = df['ContractStatusId'].map(status_mapping)\n"
        }
      ],
      "execution_count": 8,
      "metadata": {
        "gather": {
          "logged": 1751653572733
        },
        "jupyter": {
          "outputs_hidden": true
        }
      }
    },
    {
      "cell_type": "code",
      "source": [
        "df_contract.head()"
      ],
      "outputs": [
        {
          "output_type": "execute_result",
          "execution_count": 9,
          "data": {
            "text/plain": "    Gross  AgentId  OfficeId  LineOfBusinessId  LeadSourceId  ContractTypeId  \\\n0  1700.0        0      17.0               2.0           3.0             1.0   \n1   550.0      419       1.0               3.0           5.0             1.0   \n2  2000.0        0       1.0               3.0           5.0             1.0   \n3  1500.0      313       1.0               3.0           5.0             1.0   \n4  1000.0        0       1.0               3.0           5.0             1.0   \n\n  IsReseller IsBuySell IsBackendDeal  EventTypeId  ...  \\\n0       True      True         False          8.0  ...   \n1       True     False         False          8.0  ...   \n2      False     False         False          8.0  ...   \n3       True     False         False         19.0  ...   \n4      False     False         False         26.0  ...   \n\n   IsWillAgentAttendTheEvent IsSalaried  CreatedDate  ContractDueDate  \\\n0                      False      False   1988-09-15       2001-11-17   \n1                      False      False   1989-01-03       1989-02-10   \n2                      False      False   2001-04-28       1989-05-05   \n3                      False      False   1989-04-28       1989-05-13   \n4                      False      False   1989-05-15       1990-10-30   \n\n   IssueDate CancellationDate  PresenterTypeId PresenterMailingStateId  \\\n0 1988-09-15              NaT             20.0                    46.0   \n1 1989-01-03       1991-03-14             20.0                    46.0   \n2 2001-04-28              NaT             20.0                    46.0   \n3 1989-04-28              NaT             49.0                    46.0   \n4 1989-05-15              NaT             99.0                    46.0   \n\n   VenuePhysicalStateId IsFinalized  \n0                  46.0           1  \n1                  46.0           1  \n2                  46.0           0  \n3                  46.0           0  \n4                  46.0           1  \n\n[5 rows x 30 columns]",
            "text/html": "<div>\n<style scoped>\n    .dataframe tbody tr th:only-of-type {\n        vertical-align: middle;\n    }\n\n    .dataframe tbody tr th {\n        vertical-align: top;\n    }\n\n    .dataframe thead th {\n        text-align: right;\n    }\n</style>\n<table border=\"1\" class=\"dataframe\">\n  <thead>\n    <tr style=\"text-align: right;\">\n      <th></th>\n      <th>Gross</th>\n      <th>AgentId</th>\n      <th>OfficeId</th>\n      <th>LineOfBusinessId</th>\n      <th>LeadSourceId</th>\n      <th>ContractTypeId</th>\n      <th>IsReseller</th>\n      <th>IsBuySell</th>\n      <th>IsBackendDeal</th>\n      <th>EventTypeId</th>\n      <th>...</th>\n      <th>IsWillAgentAttendTheEvent</th>\n      <th>IsSalaried</th>\n      <th>CreatedDate</th>\n      <th>ContractDueDate</th>\n      <th>IssueDate</th>\n      <th>CancellationDate</th>\n      <th>PresenterTypeId</th>\n      <th>PresenterMailingStateId</th>\n      <th>VenuePhysicalStateId</th>\n      <th>IsFinalized</th>\n    </tr>\n  </thead>\n  <tbody>\n    <tr>\n      <th>0</th>\n      <td>1700.0</td>\n      <td>0</td>\n      <td>17.0</td>\n      <td>2.0</td>\n      <td>3.0</td>\n      <td>1.0</td>\n      <td>True</td>\n      <td>True</td>\n      <td>False</td>\n      <td>8.0</td>\n      <td>...</td>\n      <td>False</td>\n      <td>False</td>\n      <td>1988-09-15</td>\n      <td>2001-11-17</td>\n      <td>1988-09-15</td>\n      <td>NaT</td>\n      <td>20.0</td>\n      <td>46.0</td>\n      <td>46.0</td>\n      <td>1</td>\n    </tr>\n    <tr>\n      <th>1</th>\n      <td>550.0</td>\n      <td>419</td>\n      <td>1.0</td>\n      <td>3.0</td>\n      <td>5.0</td>\n      <td>1.0</td>\n      <td>True</td>\n      <td>False</td>\n      <td>False</td>\n      <td>8.0</td>\n      <td>...</td>\n      <td>False</td>\n      <td>False</td>\n      <td>1989-01-03</td>\n      <td>1989-02-10</td>\n      <td>1989-01-03</td>\n      <td>1991-03-14</td>\n      <td>20.0</td>\n      <td>46.0</td>\n      <td>46.0</td>\n      <td>1</td>\n    </tr>\n    <tr>\n      <th>2</th>\n      <td>2000.0</td>\n      <td>0</td>\n      <td>1.0</td>\n      <td>3.0</td>\n      <td>5.0</td>\n      <td>1.0</td>\n      <td>False</td>\n      <td>False</td>\n      <td>False</td>\n      <td>8.0</td>\n      <td>...</td>\n      <td>False</td>\n      <td>False</td>\n      <td>2001-04-28</td>\n      <td>1989-05-05</td>\n      <td>2001-04-28</td>\n      <td>NaT</td>\n      <td>20.0</td>\n      <td>46.0</td>\n      <td>46.0</td>\n      <td>0</td>\n    </tr>\n    <tr>\n      <th>3</th>\n      <td>1500.0</td>\n      <td>313</td>\n      <td>1.0</td>\n      <td>3.0</td>\n      <td>5.0</td>\n      <td>1.0</td>\n      <td>True</td>\n      <td>False</td>\n      <td>False</td>\n      <td>19.0</td>\n      <td>...</td>\n      <td>False</td>\n      <td>False</td>\n      <td>1989-04-28</td>\n      <td>1989-05-13</td>\n      <td>1989-04-28</td>\n      <td>NaT</td>\n      <td>49.0</td>\n      <td>46.0</td>\n      <td>46.0</td>\n      <td>0</td>\n    </tr>\n    <tr>\n      <th>4</th>\n      <td>1000.0</td>\n      <td>0</td>\n      <td>1.0</td>\n      <td>3.0</td>\n      <td>5.0</td>\n      <td>1.0</td>\n      <td>False</td>\n      <td>False</td>\n      <td>False</td>\n      <td>26.0</td>\n      <td>...</td>\n      <td>False</td>\n      <td>False</td>\n      <td>1989-05-15</td>\n      <td>1990-10-30</td>\n      <td>1989-05-15</td>\n      <td>NaT</td>\n      <td>99.0</td>\n      <td>46.0</td>\n      <td>46.0</td>\n      <td>1</td>\n    </tr>\n  </tbody>\n</table>\n<p>5 rows × 30 columns</p>\n</div>"
          },
          "metadata": {}
        }
      ],
      "execution_count": 9,
      "metadata": {
        "gather": {
          "logged": 1751653573074
        },
        "jupyter": {
          "outputs_hidden": true
        }
      }
    },
    {
      "cell_type": "code",
      "source": [
        "df_contract.shape"
      ],
      "outputs": [
        {
          "output_type": "execute_result",
          "execution_count": 10,
          "data": {
            "text/plain": "(303633, 30)"
          },
          "metadata": {}
        }
      ],
      "execution_count": 10,
      "metadata": {
        "gather": {
          "logged": 1751653573360
        }
      }
    },
    {
      "cell_type": "code",
      "source": [
        "df_contract.info()"
      ],
      "outputs": [
        {
          "output_type": "stream",
          "name": "stdout",
          "text": "<class 'pandas.core.frame.DataFrame'>\nRangeIndex: 303633 entries, 0 to 303632\nData columns (total 30 columns):\n #   Column                     Non-Null Count   Dtype         \n---  ------                     --------------   -----         \n 0   Gross                      303633 non-null  float64       \n 1   AgentId                    303633 non-null  int64         \n 2   OfficeId                   301890 non-null  float64       \n 3   LineOfBusinessId           301890 non-null  float64       \n 4   LeadSourceId               301890 non-null  float64       \n 5   ContractTypeId             301890 non-null  float64       \n 6   IsReseller                 301890 non-null  object        \n 7   IsBuySell                  301890 non-null  object        \n 8   IsBackendDeal              301890 non-null  object        \n 9   EventTypeId                302828 non-null  float64       \n 10  TimezoneId                 36771 non-null   float64       \n 11  IsPublicEvent              302827 non-null  object        \n 12  VenueId                    18633 non-null   float64       \n 13  VenueCapacity              3700 non-null    float64       \n 14  VenueSettingId             302060 non-null  float64       \n 15  IsSettingCovered           302626 non-null  object        \n 16  ECECommissionRate          35622 non-null   float64       \n 17  IsCommissionPercentage     301192 non-null  object        \n 18  HasIssues                  303633 non-null  bool          \n 19  IsNoIssue                  301890 non-null  object        \n 20  IsWillAgentAttendTheEvent  303325 non-null  object        \n 21  IsSalaried                 303592 non-null  object        \n 22  CreatedDate                303633 non-null  datetime64[ns]\n 23  ContractDueDate            301744 non-null  datetime64[ns]\n 24  IssueDate                  296848 non-null  datetime64[ns]\n 25  CancellationDate           44504 non-null   datetime64[ns]\n 26  PresenterTypeId            302148 non-null  float64       \n 27  PresenterMailingStateId    302148 non-null  float64       \n 28  VenuePhysicalStateId       302627 non-null  float64       \n 29  IsFinalized                303633 non-null  int64         \ndtypes: bool(1), datetime64[ns](4), float64(14), int64(2), object(9)\nmemory usage: 67.5+ MB\n"
        }
      ],
      "execution_count": 11,
      "metadata": {
        "gather": {
          "logged": 1751653573663
        }
      }
    },
    {
      "cell_type": "code",
      "source": [
        "df_contract.isnull().sum()"
      ],
      "outputs": [
        {
          "output_type": "execute_result",
          "execution_count": 12,
          "data": {
            "text/plain": "Gross                             0\nAgentId                           0\nOfficeId                       1743\nLineOfBusinessId               1743\nLeadSourceId                   1743\nContractTypeId                 1743\nIsReseller                     1743\nIsBuySell                      1743\nIsBackendDeal                  1743\nEventTypeId                     805\nTimezoneId                   266862\nIsPublicEvent                   806\nVenueId                      285000\nVenueCapacity                299933\nVenueSettingId                 1573\nIsSettingCovered               1007\nECECommissionRate            268011\nIsCommissionPercentage         2441\nHasIssues                         0\nIsNoIssue                      1743\nIsWillAgentAttendTheEvent       308\nIsSalaried                       41\nCreatedDate                       0\nContractDueDate                1889\nIssueDate                      6785\nCancellationDate             259129\nPresenterTypeId                1485\nPresenterMailingStateId        1485\nVenuePhysicalStateId           1006\nIsFinalized                       0\ndtype: int64"
          },
          "metadata": {}
        }
      ],
      "execution_count": 12,
      "metadata": {
        "gather": {
          "logged": 1751653573981
        }
      }
    },
    {
      "cell_type": "code",
      "source": [
        "null_info = df_contract.isnull().sum()\n",
        "null_columns = null_info[null_info > 0]\n",
        "\n",
        "null_val = pd.DataFrame({\n",
        "    'Data Type': df_contract[null_columns.index].dtypes,\n",
        "    'Null Count': null_columns\n",
        "})\n",
        "\n",
        "null_val"
      ],
      "outputs": [
        {
          "output_type": "execute_result",
          "execution_count": 13,
          "data": {
            "text/plain": "                                Data Type  Null Count\nOfficeId                          float64        1743\nLineOfBusinessId                  float64        1743\nLeadSourceId                      float64        1743\nContractTypeId                    float64        1743\nIsReseller                         object        1743\nIsBuySell                          object        1743\nIsBackendDeal                      object        1743\nEventTypeId                       float64         805\nTimezoneId                        float64      266862\nIsPublicEvent                      object         806\nVenueId                           float64      285000\nVenueCapacity                     float64      299933\nVenueSettingId                    float64        1573\nIsSettingCovered                   object        1007\nECECommissionRate                 float64      268011\nIsCommissionPercentage             object        2441\nIsNoIssue                          object        1743\nIsWillAgentAttendTheEvent          object         308\nIsSalaried                         object          41\nContractDueDate            datetime64[ns]        1889\nIssueDate                  datetime64[ns]        6785\nCancellationDate           datetime64[ns]      259129\nPresenterTypeId                   float64        1485\nPresenterMailingStateId           float64        1485\nVenuePhysicalStateId              float64        1006",
            "text/html": "<div>\n<style scoped>\n    .dataframe tbody tr th:only-of-type {\n        vertical-align: middle;\n    }\n\n    .dataframe tbody tr th {\n        vertical-align: top;\n    }\n\n    .dataframe thead th {\n        text-align: right;\n    }\n</style>\n<table border=\"1\" class=\"dataframe\">\n  <thead>\n    <tr style=\"text-align: right;\">\n      <th></th>\n      <th>Data Type</th>\n      <th>Null Count</th>\n    </tr>\n  </thead>\n  <tbody>\n    <tr>\n      <th>OfficeId</th>\n      <td>float64</td>\n      <td>1743</td>\n    </tr>\n    <tr>\n      <th>LineOfBusinessId</th>\n      <td>float64</td>\n      <td>1743</td>\n    </tr>\n    <tr>\n      <th>LeadSourceId</th>\n      <td>float64</td>\n      <td>1743</td>\n    </tr>\n    <tr>\n      <th>ContractTypeId</th>\n      <td>float64</td>\n      <td>1743</td>\n    </tr>\n    <tr>\n      <th>IsReseller</th>\n      <td>object</td>\n      <td>1743</td>\n    </tr>\n    <tr>\n      <th>IsBuySell</th>\n      <td>object</td>\n      <td>1743</td>\n    </tr>\n    <tr>\n      <th>IsBackendDeal</th>\n      <td>object</td>\n      <td>1743</td>\n    </tr>\n    <tr>\n      <th>EventTypeId</th>\n      <td>float64</td>\n      <td>805</td>\n    </tr>\n    <tr>\n      <th>TimezoneId</th>\n      <td>float64</td>\n      <td>266862</td>\n    </tr>\n    <tr>\n      <th>IsPublicEvent</th>\n      <td>object</td>\n      <td>806</td>\n    </tr>\n    <tr>\n      <th>VenueId</th>\n      <td>float64</td>\n      <td>285000</td>\n    </tr>\n    <tr>\n      <th>VenueCapacity</th>\n      <td>float64</td>\n      <td>299933</td>\n    </tr>\n    <tr>\n      <th>VenueSettingId</th>\n      <td>float64</td>\n      <td>1573</td>\n    </tr>\n    <tr>\n      <th>IsSettingCovered</th>\n      <td>object</td>\n      <td>1007</td>\n    </tr>\n    <tr>\n      <th>ECECommissionRate</th>\n      <td>float64</td>\n      <td>268011</td>\n    </tr>\n    <tr>\n      <th>IsCommissionPercentage</th>\n      <td>object</td>\n      <td>2441</td>\n    </tr>\n    <tr>\n      <th>IsNoIssue</th>\n      <td>object</td>\n      <td>1743</td>\n    </tr>\n    <tr>\n      <th>IsWillAgentAttendTheEvent</th>\n      <td>object</td>\n      <td>308</td>\n    </tr>\n    <tr>\n      <th>IsSalaried</th>\n      <td>object</td>\n      <td>41</td>\n    </tr>\n    <tr>\n      <th>ContractDueDate</th>\n      <td>datetime64[ns]</td>\n      <td>1889</td>\n    </tr>\n    <tr>\n      <th>IssueDate</th>\n      <td>datetime64[ns]</td>\n      <td>6785</td>\n    </tr>\n    <tr>\n      <th>CancellationDate</th>\n      <td>datetime64[ns]</td>\n      <td>259129</td>\n    </tr>\n    <tr>\n      <th>PresenterTypeId</th>\n      <td>float64</td>\n      <td>1485</td>\n    </tr>\n    <tr>\n      <th>PresenterMailingStateId</th>\n      <td>float64</td>\n      <td>1485</td>\n    </tr>\n    <tr>\n      <th>VenuePhysicalStateId</th>\n      <td>float64</td>\n      <td>1006</td>\n    </tr>\n  </tbody>\n</table>\n</div>"
          },
          "metadata": {}
        }
      ],
      "execution_count": 13,
      "metadata": {
        "gather": {
          "logged": 1751653574326
        },
        "jupyter": {
          "outputs_hidden": true
        }
      }
    },
    {
      "cell_type": "code",
      "source": [
        "#Filling null values for numerical and categorical columns\n",
        "for col in df_contract.columns:\n",
        "    if df_contract[col].isnull().sum() > 0:\n",
        "        if df_contract[col].dtype == 'float64' or df_contract[col].dtype == 'int64':\n",
        "            df_contract[col].fillna(df_contract[col].median(), inplace=True) # median\n",
        "        elif df_contract[col].dtype == 'object':\n",
        "            df_contract[col].fillna(df_contract[col].mode()[0], inplace=True) # Mode"
      ],
      "outputs": [
        {
          "output_type": "stream",
          "name": "stderr",
          "text": "/tmp/ipykernel_2964/2244650036.py:5: SettingWithCopyWarning: \nA value is trying to be set on a copy of a slice from a DataFrame\n\nSee the caveats in the documentation: https://pandas.pydata.org/pandas-docs/stable/user_guide/indexing.html#returning-a-view-versus-a-copy\n  df_contract[col].fillna(df_contract[col].median(), inplace=True) # median\n/tmp/ipykernel_2964/2244650036.py:5: SettingWithCopyWarning: \nA value is trying to be set on a copy of a slice from a DataFrame\n\nSee the caveats in the documentation: https://pandas.pydata.org/pandas-docs/stable/user_guide/indexing.html#returning-a-view-versus-a-copy\n  df_contract[col].fillna(df_contract[col].median(), inplace=True) # median\n/tmp/ipykernel_2964/2244650036.py:5: SettingWithCopyWarning: \nA value is trying to be set on a copy of a slice from a DataFrame\n\nSee the caveats in the documentation: https://pandas.pydata.org/pandas-docs/stable/user_guide/indexing.html#returning-a-view-versus-a-copy\n  df_contract[col].fillna(df_contract[col].median(), inplace=True) # median\n/tmp/ipykernel_2964/2244650036.py:5: SettingWithCopyWarning: \nA value is trying to be set on a copy of a slice from a DataFrame\n\nSee the caveats in the documentation: https://pandas.pydata.org/pandas-docs/stable/user_guide/indexing.html#returning-a-view-versus-a-copy\n  df_contract[col].fillna(df_contract[col].median(), inplace=True) # median\n/tmp/ipykernel_2964/2244650036.py:7: SettingWithCopyWarning: \nA value is trying to be set on a copy of a slice from a DataFrame\n\nSee the caveats in the documentation: https://pandas.pydata.org/pandas-docs/stable/user_guide/indexing.html#returning-a-view-versus-a-copy\n  df_contract[col].fillna(df_contract[col].mode()[0], inplace=True) # Mode\n/tmp/ipykernel_2964/2244650036.py:7: SettingWithCopyWarning: \nA value is trying to be set on a copy of a slice from a DataFrame\n\nSee the caveats in the documentation: https://pandas.pydata.org/pandas-docs/stable/user_guide/indexing.html#returning-a-view-versus-a-copy\n  df_contract[col].fillna(df_contract[col].mode()[0], inplace=True) # Mode\n/tmp/ipykernel_2964/2244650036.py:7: SettingWithCopyWarning: \nA value is trying to be set on a copy of a slice from a DataFrame\n\nSee the caveats in the documentation: https://pandas.pydata.org/pandas-docs/stable/user_guide/indexing.html#returning-a-view-versus-a-copy\n  df_contract[col].fillna(df_contract[col].mode()[0], inplace=True) # Mode\n/tmp/ipykernel_2964/2244650036.py:5: SettingWithCopyWarning: \nA value is trying to be set on a copy of a slice from a DataFrame\n\nSee the caveats in the documentation: https://pandas.pydata.org/pandas-docs/stable/user_guide/indexing.html#returning-a-view-versus-a-copy\n  df_contract[col].fillna(df_contract[col].median(), inplace=True) # median\n/tmp/ipykernel_2964/2244650036.py:5: SettingWithCopyWarning: \nA value is trying to be set on a copy of a slice from a DataFrame\n\nSee the caveats in the documentation: https://pandas.pydata.org/pandas-docs/stable/user_guide/indexing.html#returning-a-view-versus-a-copy\n  df_contract[col].fillna(df_contract[col].median(), inplace=True) # median\n/tmp/ipykernel_2964/2244650036.py:7: SettingWithCopyWarning: \nA value is trying to be set on a copy of a slice from a DataFrame\n\nSee the caveats in the documentation: https://pandas.pydata.org/pandas-docs/stable/user_guide/indexing.html#returning-a-view-versus-a-copy\n  df_contract[col].fillna(df_contract[col].mode()[0], inplace=True) # Mode\n/tmp/ipykernel_2964/2244650036.py:5: SettingWithCopyWarning: \nA value is trying to be set on a copy of a slice from a DataFrame\n\nSee the caveats in the documentation: https://pandas.pydata.org/pandas-docs/stable/user_guide/indexing.html#returning-a-view-versus-a-copy\n  df_contract[col].fillna(df_contract[col].median(), inplace=True) # median\n/tmp/ipykernel_2964/2244650036.py:5: SettingWithCopyWarning: \nA value is trying to be set on a copy of a slice from a DataFrame\n\nSee the caveats in the documentation: https://pandas.pydata.org/pandas-docs/stable/user_guide/indexing.html#returning-a-view-versus-a-copy\n  df_contract[col].fillna(df_contract[col].median(), inplace=True) # median\n/tmp/ipykernel_2964/2244650036.py:5: SettingWithCopyWarning: \nA value is trying to be set on a copy of a slice from a DataFrame\n\nSee the caveats in the documentation: https://pandas.pydata.org/pandas-docs/stable/user_guide/indexing.html#returning-a-view-versus-a-copy\n  df_contract[col].fillna(df_contract[col].median(), inplace=True) # median\n/tmp/ipykernel_2964/2244650036.py:7: SettingWithCopyWarning: \nA value is trying to be set on a copy of a slice from a DataFrame\n\nSee the caveats in the documentation: https://pandas.pydata.org/pandas-docs/stable/user_guide/indexing.html#returning-a-view-versus-a-copy\n  df_contract[col].fillna(df_contract[col].mode()[0], inplace=True) # Mode\n/tmp/ipykernel_2964/2244650036.py:5: SettingWithCopyWarning: \nA value is trying to be set on a copy of a slice from a DataFrame\n\nSee the caveats in the documentation: https://pandas.pydata.org/pandas-docs/stable/user_guide/indexing.html#returning-a-view-versus-a-copy\n  df_contract[col].fillna(df_contract[col].median(), inplace=True) # median\n/tmp/ipykernel_2964/2244650036.py:7: SettingWithCopyWarning: \nA value is trying to be set on a copy of a slice from a DataFrame\n\nSee the caveats in the documentation: https://pandas.pydata.org/pandas-docs/stable/user_guide/indexing.html#returning-a-view-versus-a-copy\n  df_contract[col].fillna(df_contract[col].mode()[0], inplace=True) # Mode\n/tmp/ipykernel_2964/2244650036.py:7: SettingWithCopyWarning: \nA value is trying to be set on a copy of a slice from a DataFrame\n\nSee the caveats in the documentation: https://pandas.pydata.org/pandas-docs/stable/user_guide/indexing.html#returning-a-view-versus-a-copy\n  df_contract[col].fillna(df_contract[col].mode()[0], inplace=True) # Mode\n/tmp/ipykernel_2964/2244650036.py:7: SettingWithCopyWarning: \nA value is trying to be set on a copy of a slice from a DataFrame\n\nSee the caveats in the documentation: https://pandas.pydata.org/pandas-docs/stable/user_guide/indexing.html#returning-a-view-versus-a-copy\n  df_contract[col].fillna(df_contract[col].mode()[0], inplace=True) # Mode\n/tmp/ipykernel_2964/2244650036.py:7: SettingWithCopyWarning: \nA value is trying to be set on a copy of a slice from a DataFrame\n\nSee the caveats in the documentation: https://pandas.pydata.org/pandas-docs/stable/user_guide/indexing.html#returning-a-view-versus-a-copy\n  df_contract[col].fillna(df_contract[col].mode()[0], inplace=True) # Mode\n/tmp/ipykernel_2964/2244650036.py:5: SettingWithCopyWarning: \nA value is trying to be set on a copy of a slice from a DataFrame\n\nSee the caveats in the documentation: https://pandas.pydata.org/pandas-docs/stable/user_guide/indexing.html#returning-a-view-versus-a-copy\n  df_contract[col].fillna(df_contract[col].median(), inplace=True) # median\n/tmp/ipykernel_2964/2244650036.py:5: SettingWithCopyWarning: \nA value is trying to be set on a copy of a slice from a DataFrame\n\nSee the caveats in the documentation: https://pandas.pydata.org/pandas-docs/stable/user_guide/indexing.html#returning-a-view-versus-a-copy\n  df_contract[col].fillna(df_contract[col].median(), inplace=True) # median\n/tmp/ipykernel_2964/2244650036.py:5: SettingWithCopyWarning: \nA value is trying to be set on a copy of a slice from a DataFrame\n\nSee the caveats in the documentation: https://pandas.pydata.org/pandas-docs/stable/user_guide/indexing.html#returning-a-view-versus-a-copy\n  df_contract[col].fillna(df_contract[col].median(), inplace=True) # median\n"
        }
      ],
      "execution_count": 14,
      "metadata": {
        "gather": {
          "logged": 1751653574495
        },
        "jupyter": {
          "outputs_hidden": true
        }
      }
    },
    {
      "cell_type": "code",
      "source": [
        "date_cols = ['CreatedDate', 'ContractDueDate', 'IssueDate', 'CancellationDate']\n",
        "for col in date_cols:\n",
        "    df_contract[col] = pd.to_datetime(df_contract[col], errors='coerce')\n",
        "    df_contract[col] = df_contract[col].fillna(pd.Timestamp('2000-01-01'))"
      ],
      "outputs": [
        {
          "output_type": "stream",
          "name": "stderr",
          "text": "/tmp/ipykernel_2964/1485168044.py:3: SettingWithCopyWarning: \nA value is trying to be set on a copy of a slice from a DataFrame.\nTry using .loc[row_indexer,col_indexer] = value instead\n\nSee the caveats in the documentation: https://pandas.pydata.org/pandas-docs/stable/user_guide/indexing.html#returning-a-view-versus-a-copy\n  df_contract[col] = pd.to_datetime(df_contract[col], errors='coerce')\n/tmp/ipykernel_2964/1485168044.py:4: SettingWithCopyWarning: \nA value is trying to be set on a copy of a slice from a DataFrame.\nTry using .loc[row_indexer,col_indexer] = value instead\n\nSee the caveats in the documentation: https://pandas.pydata.org/pandas-docs/stable/user_guide/indexing.html#returning-a-view-versus-a-copy\n  df_contract[col] = df_contract[col].fillna(pd.Timestamp('2000-01-01'))\n/tmp/ipykernel_2964/1485168044.py:3: SettingWithCopyWarning: \nA value is trying to be set on a copy of a slice from a DataFrame.\nTry using .loc[row_indexer,col_indexer] = value instead\n\nSee the caveats in the documentation: https://pandas.pydata.org/pandas-docs/stable/user_guide/indexing.html#returning-a-view-versus-a-copy\n  df_contract[col] = pd.to_datetime(df_contract[col], errors='coerce')\n/tmp/ipykernel_2964/1485168044.py:4: SettingWithCopyWarning: \nA value is trying to be set on a copy of a slice from a DataFrame.\nTry using .loc[row_indexer,col_indexer] = value instead\n\nSee the caveats in the documentation: https://pandas.pydata.org/pandas-docs/stable/user_guide/indexing.html#returning-a-view-versus-a-copy\n  df_contract[col] = df_contract[col].fillna(pd.Timestamp('2000-01-01'))\n/tmp/ipykernel_2964/1485168044.py:3: SettingWithCopyWarning: \nA value is trying to be set on a copy of a slice from a DataFrame.\nTry using .loc[row_indexer,col_indexer] = value instead\n\nSee the caveats in the documentation: https://pandas.pydata.org/pandas-docs/stable/user_guide/indexing.html#returning-a-view-versus-a-copy\n  df_contract[col] = pd.to_datetime(df_contract[col], errors='coerce')\n/tmp/ipykernel_2964/1485168044.py:4: SettingWithCopyWarning: \nA value is trying to be set on a copy of a slice from a DataFrame.\nTry using .loc[row_indexer,col_indexer] = value instead\n\nSee the caveats in the documentation: https://pandas.pydata.org/pandas-docs/stable/user_guide/indexing.html#returning-a-view-versus-a-copy\n  df_contract[col] = df_contract[col].fillna(pd.Timestamp('2000-01-01'))\n/tmp/ipykernel_2964/1485168044.py:3: SettingWithCopyWarning: \nA value is trying to be set on a copy of a slice from a DataFrame.\nTry using .loc[row_indexer,col_indexer] = value instead\n\nSee the caveats in the documentation: https://pandas.pydata.org/pandas-docs/stable/user_guide/indexing.html#returning-a-view-versus-a-copy\n  df_contract[col] = pd.to_datetime(df_contract[col], errors='coerce')\n/tmp/ipykernel_2964/1485168044.py:4: SettingWithCopyWarning: \nA value is trying to be set on a copy of a slice from a DataFrame.\nTry using .loc[row_indexer,col_indexer] = value instead\n\nSee the caveats in the documentation: https://pandas.pydata.org/pandas-docs/stable/user_guide/indexing.html#returning-a-view-versus-a-copy\n  df_contract[col] = df_contract[col].fillna(pd.Timestamp('2000-01-01'))\n"
        }
      ],
      "execution_count": 15,
      "metadata": {
        "gather": {
          "logged": 1751653574650
        },
        "jupyter": {
          "outputs_hidden": true
        }
      }
    },
    {
      "cell_type": "code",
      "source": [
        "df_contract.isnull().sum()"
      ],
      "outputs": [
        {
          "output_type": "execute_result",
          "execution_count": 16,
          "data": {
            "text/plain": "Gross                        0\nAgentId                      0\nOfficeId                     0\nLineOfBusinessId             0\nLeadSourceId                 0\nContractTypeId               0\nIsReseller                   0\nIsBuySell                    0\nIsBackendDeal                0\nEventTypeId                  0\nTimezoneId                   0\nIsPublicEvent                0\nVenueId                      0\nVenueCapacity                0\nVenueSettingId               0\nIsSettingCovered             0\nECECommissionRate            0\nIsCommissionPercentage       0\nHasIssues                    0\nIsNoIssue                    0\nIsWillAgentAttendTheEvent    0\nIsSalaried                   0\nCreatedDate                  0\nContractDueDate              0\nIssueDate                    0\nCancellationDate             0\nPresenterTypeId              0\nPresenterMailingStateId      0\nVenuePhysicalStateId         0\nIsFinalized                  0\ndtype: int64"
          },
          "metadata": {}
        }
      ],
      "execution_count": 16,
      "metadata": {
        "gather": {
          "logged": 1751653574963
        }
      }
    },
    {
      "cell_type": "code",
      "source": [
        "pd.set_option('display.max_columns', None)\n",
        "df_contract.head()"
      ],
      "outputs": [
        {
          "output_type": "execute_result",
          "execution_count": 17,
          "data": {
            "text/plain": "    Gross  AgentId  OfficeId  LineOfBusinessId  LeadSourceId  ContractTypeId  \\\n0  1700.0        0      17.0               2.0           3.0             1.0   \n1   550.0      419       1.0               3.0           5.0             1.0   \n2  2000.0        0       1.0               3.0           5.0             1.0   \n3  1500.0      313       1.0               3.0           5.0             1.0   \n4  1000.0        0       1.0               3.0           5.0             1.0   \n\n   IsReseller  IsBuySell  IsBackendDeal  EventTypeId  TimezoneId  \\\n0        True       True          False          8.0         1.0   \n1        True      False          False          8.0         1.0   \n2       False      False          False          8.0         1.0   \n3        True      False          False         19.0         1.0   \n4       False      False          False         26.0         1.0   \n\n   IsPublicEvent  VenueId  VenueCapacity  VenueSettingId  IsSettingCovered  \\\n0          False    671.0          300.0             1.0              True   \n1          False    671.0          300.0             1.0              True   \n2          False    671.0          300.0             1.0              True   \n3          False    671.0          300.0             1.0              True   \n4          False    671.0          300.0             1.0              True   \n\n   ECECommissionRate  IsCommissionPercentage  HasIssues  IsNoIssue  \\\n0               20.0                    True      False       True   \n1               20.0                    True      False       True   \n2               20.0                    True      False      False   \n3               20.0                    True      False       True   \n4               20.0                    True      False      False   \n\n   IsWillAgentAttendTheEvent  IsSalaried CreatedDate ContractDueDate  \\\n0                      False       False  1988-09-15      2001-11-17   \n1                      False       False  1989-01-03      1989-02-10   \n2                      False       False  2001-04-28      1989-05-05   \n3                      False       False  1989-04-28      1989-05-13   \n4                      False       False  1989-05-15      1990-10-30   \n\n   IssueDate CancellationDate  PresenterTypeId  PresenterMailingStateId  \\\n0 1988-09-15       2000-01-01             20.0                     46.0   \n1 1989-01-03       1991-03-14             20.0                     46.0   \n2 2001-04-28       2000-01-01             20.0                     46.0   \n3 1989-04-28       2000-01-01             49.0                     46.0   \n4 1989-05-15       2000-01-01             99.0                     46.0   \n\n   VenuePhysicalStateId  IsFinalized  \n0                  46.0            1  \n1                  46.0            1  \n2                  46.0            0  \n3                  46.0            0  \n4                  46.0            1  ",
            "text/html": "<div>\n<style scoped>\n    .dataframe tbody tr th:only-of-type {\n        vertical-align: middle;\n    }\n\n    .dataframe tbody tr th {\n        vertical-align: top;\n    }\n\n    .dataframe thead th {\n        text-align: right;\n    }\n</style>\n<table border=\"1\" class=\"dataframe\">\n  <thead>\n    <tr style=\"text-align: right;\">\n      <th></th>\n      <th>Gross</th>\n      <th>AgentId</th>\n      <th>OfficeId</th>\n      <th>LineOfBusinessId</th>\n      <th>LeadSourceId</th>\n      <th>ContractTypeId</th>\n      <th>IsReseller</th>\n      <th>IsBuySell</th>\n      <th>IsBackendDeal</th>\n      <th>EventTypeId</th>\n      <th>TimezoneId</th>\n      <th>IsPublicEvent</th>\n      <th>VenueId</th>\n      <th>VenueCapacity</th>\n      <th>VenueSettingId</th>\n      <th>IsSettingCovered</th>\n      <th>ECECommissionRate</th>\n      <th>IsCommissionPercentage</th>\n      <th>HasIssues</th>\n      <th>IsNoIssue</th>\n      <th>IsWillAgentAttendTheEvent</th>\n      <th>IsSalaried</th>\n      <th>CreatedDate</th>\n      <th>ContractDueDate</th>\n      <th>IssueDate</th>\n      <th>CancellationDate</th>\n      <th>PresenterTypeId</th>\n      <th>PresenterMailingStateId</th>\n      <th>VenuePhysicalStateId</th>\n      <th>IsFinalized</th>\n    </tr>\n  </thead>\n  <tbody>\n    <tr>\n      <th>0</th>\n      <td>1700.0</td>\n      <td>0</td>\n      <td>17.0</td>\n      <td>2.0</td>\n      <td>3.0</td>\n      <td>1.0</td>\n      <td>True</td>\n      <td>True</td>\n      <td>False</td>\n      <td>8.0</td>\n      <td>1.0</td>\n      <td>False</td>\n      <td>671.0</td>\n      <td>300.0</td>\n      <td>1.0</td>\n      <td>True</td>\n      <td>20.0</td>\n      <td>True</td>\n      <td>False</td>\n      <td>True</td>\n      <td>False</td>\n      <td>False</td>\n      <td>1988-09-15</td>\n      <td>2001-11-17</td>\n      <td>1988-09-15</td>\n      <td>2000-01-01</td>\n      <td>20.0</td>\n      <td>46.0</td>\n      <td>46.0</td>\n      <td>1</td>\n    </tr>\n    <tr>\n      <th>1</th>\n      <td>550.0</td>\n      <td>419</td>\n      <td>1.0</td>\n      <td>3.0</td>\n      <td>5.0</td>\n      <td>1.0</td>\n      <td>True</td>\n      <td>False</td>\n      <td>False</td>\n      <td>8.0</td>\n      <td>1.0</td>\n      <td>False</td>\n      <td>671.0</td>\n      <td>300.0</td>\n      <td>1.0</td>\n      <td>True</td>\n      <td>20.0</td>\n      <td>True</td>\n      <td>False</td>\n      <td>True</td>\n      <td>False</td>\n      <td>False</td>\n      <td>1989-01-03</td>\n      <td>1989-02-10</td>\n      <td>1989-01-03</td>\n      <td>1991-03-14</td>\n      <td>20.0</td>\n      <td>46.0</td>\n      <td>46.0</td>\n      <td>1</td>\n    </tr>\n    <tr>\n      <th>2</th>\n      <td>2000.0</td>\n      <td>0</td>\n      <td>1.0</td>\n      <td>3.0</td>\n      <td>5.0</td>\n      <td>1.0</td>\n      <td>False</td>\n      <td>False</td>\n      <td>False</td>\n      <td>8.0</td>\n      <td>1.0</td>\n      <td>False</td>\n      <td>671.0</td>\n      <td>300.0</td>\n      <td>1.0</td>\n      <td>True</td>\n      <td>20.0</td>\n      <td>True</td>\n      <td>False</td>\n      <td>False</td>\n      <td>False</td>\n      <td>False</td>\n      <td>2001-04-28</td>\n      <td>1989-05-05</td>\n      <td>2001-04-28</td>\n      <td>2000-01-01</td>\n      <td>20.0</td>\n      <td>46.0</td>\n      <td>46.0</td>\n      <td>0</td>\n    </tr>\n    <tr>\n      <th>3</th>\n      <td>1500.0</td>\n      <td>313</td>\n      <td>1.0</td>\n      <td>3.0</td>\n      <td>5.0</td>\n      <td>1.0</td>\n      <td>True</td>\n      <td>False</td>\n      <td>False</td>\n      <td>19.0</td>\n      <td>1.0</td>\n      <td>False</td>\n      <td>671.0</td>\n      <td>300.0</td>\n      <td>1.0</td>\n      <td>True</td>\n      <td>20.0</td>\n      <td>True</td>\n      <td>False</td>\n      <td>True</td>\n      <td>False</td>\n      <td>False</td>\n      <td>1989-04-28</td>\n      <td>1989-05-13</td>\n      <td>1989-04-28</td>\n      <td>2000-01-01</td>\n      <td>49.0</td>\n      <td>46.0</td>\n      <td>46.0</td>\n      <td>0</td>\n    </tr>\n    <tr>\n      <th>4</th>\n      <td>1000.0</td>\n      <td>0</td>\n      <td>1.0</td>\n      <td>3.0</td>\n      <td>5.0</td>\n      <td>1.0</td>\n      <td>False</td>\n      <td>False</td>\n      <td>False</td>\n      <td>26.0</td>\n      <td>1.0</td>\n      <td>False</td>\n      <td>671.0</td>\n      <td>300.0</td>\n      <td>1.0</td>\n      <td>True</td>\n      <td>20.0</td>\n      <td>True</td>\n      <td>False</td>\n      <td>False</td>\n      <td>False</td>\n      <td>False</td>\n      <td>1989-05-15</td>\n      <td>1990-10-30</td>\n      <td>1989-05-15</td>\n      <td>2000-01-01</td>\n      <td>99.0</td>\n      <td>46.0</td>\n      <td>46.0</td>\n      <td>1</td>\n    </tr>\n  </tbody>\n</table>\n</div>"
          },
          "metadata": {}
        }
      ],
      "execution_count": 17,
      "metadata": {
        "gather": {
          "logged": 1751653575278
        },
        "jupyter": {
          "outputs_hidden": true
        }
      }
    },
    {
      "cell_type": "markdown",
      "source": [
        "## Feature Encoding"
      ],
      "metadata": {
        "nteract": {
          "transient": {
            "deleting": false
          }
        }
      }
    },
    {
      "cell_type": "code",
      "source": [
        "bool_cols = df_contract.select_dtypes(include='bool').columns\n",
        "df_contract[bool_cols] = df_contract[bool_cols].astype(int)"
      ],
      "outputs": [
        {
          "output_type": "stream",
          "name": "stderr",
          "text": "/tmp/ipykernel_2964/3314182306.py:2: SettingWithCopyWarning: \nA value is trying to be set on a copy of a slice from a DataFrame.\nTry using .loc[row_indexer,col_indexer] = value instead\n\nSee the caveats in the documentation: https://pandas.pydata.org/pandas-docs/stable/user_guide/indexing.html#returning-a-view-versus-a-copy\n  df_contract[bool_cols] = df_contract[bool_cols].astype(int)\n"
        }
      ],
      "execution_count": 18,
      "metadata": {
        "gather": {
          "logged": 1751653575572
        },
        "jupyter": {
          "outputs_hidden": true
        }
      }
    },
    {
      "cell_type": "code",
      "source": [
        "df_contract.head()"
      ],
      "outputs": [
        {
          "output_type": "execute_result",
          "execution_count": 19,
          "data": {
            "text/plain": "    Gross  AgentId  OfficeId  LineOfBusinessId  LeadSourceId  ContractTypeId  \\\n0  1700.0        0      17.0               2.0           3.0             1.0   \n1   550.0      419       1.0               3.0           5.0             1.0   \n2  2000.0        0       1.0               3.0           5.0             1.0   \n3  1500.0      313       1.0               3.0           5.0             1.0   \n4  1000.0        0       1.0               3.0           5.0             1.0   \n\n   IsReseller  IsBuySell  IsBackendDeal  EventTypeId  TimezoneId  \\\n0           1          1              0          8.0         1.0   \n1           1          0              0          8.0         1.0   \n2           0          0              0          8.0         1.0   \n3           1          0              0         19.0         1.0   \n4           0          0              0         26.0         1.0   \n\n   IsPublicEvent  VenueId  VenueCapacity  VenueSettingId  IsSettingCovered  \\\n0              0    671.0          300.0             1.0                 1   \n1              0    671.0          300.0             1.0                 1   \n2              0    671.0          300.0             1.0                 1   \n3              0    671.0          300.0             1.0                 1   \n4              0    671.0          300.0             1.0                 1   \n\n   ECECommissionRate  IsCommissionPercentage  HasIssues  IsNoIssue  \\\n0               20.0                       1          0          1   \n1               20.0                       1          0          1   \n2               20.0                       1          0          0   \n3               20.0                       1          0          1   \n4               20.0                       1          0          0   \n\n   IsWillAgentAttendTheEvent  IsSalaried CreatedDate ContractDueDate  \\\n0                          0           0  1988-09-15      2001-11-17   \n1                          0           0  1989-01-03      1989-02-10   \n2                          0           0  2001-04-28      1989-05-05   \n3                          0           0  1989-04-28      1989-05-13   \n4                          0           0  1989-05-15      1990-10-30   \n\n   IssueDate CancellationDate  PresenterTypeId  PresenterMailingStateId  \\\n0 1988-09-15       2000-01-01             20.0                     46.0   \n1 1989-01-03       1991-03-14             20.0                     46.0   \n2 2001-04-28       2000-01-01             20.0                     46.0   \n3 1989-04-28       2000-01-01             49.0                     46.0   \n4 1989-05-15       2000-01-01             99.0                     46.0   \n\n   VenuePhysicalStateId  IsFinalized  \n0                  46.0            1  \n1                  46.0            1  \n2                  46.0            0  \n3                  46.0            0  \n4                  46.0            1  ",
            "text/html": "<div>\n<style scoped>\n    .dataframe tbody tr th:only-of-type {\n        vertical-align: middle;\n    }\n\n    .dataframe tbody tr th {\n        vertical-align: top;\n    }\n\n    .dataframe thead th {\n        text-align: right;\n    }\n</style>\n<table border=\"1\" class=\"dataframe\">\n  <thead>\n    <tr style=\"text-align: right;\">\n      <th></th>\n      <th>Gross</th>\n      <th>AgentId</th>\n      <th>OfficeId</th>\n      <th>LineOfBusinessId</th>\n      <th>LeadSourceId</th>\n      <th>ContractTypeId</th>\n      <th>IsReseller</th>\n      <th>IsBuySell</th>\n      <th>IsBackendDeal</th>\n      <th>EventTypeId</th>\n      <th>TimezoneId</th>\n      <th>IsPublicEvent</th>\n      <th>VenueId</th>\n      <th>VenueCapacity</th>\n      <th>VenueSettingId</th>\n      <th>IsSettingCovered</th>\n      <th>ECECommissionRate</th>\n      <th>IsCommissionPercentage</th>\n      <th>HasIssues</th>\n      <th>IsNoIssue</th>\n      <th>IsWillAgentAttendTheEvent</th>\n      <th>IsSalaried</th>\n      <th>CreatedDate</th>\n      <th>ContractDueDate</th>\n      <th>IssueDate</th>\n      <th>CancellationDate</th>\n      <th>PresenterTypeId</th>\n      <th>PresenterMailingStateId</th>\n      <th>VenuePhysicalStateId</th>\n      <th>IsFinalized</th>\n    </tr>\n  </thead>\n  <tbody>\n    <tr>\n      <th>0</th>\n      <td>1700.0</td>\n      <td>0</td>\n      <td>17.0</td>\n      <td>2.0</td>\n      <td>3.0</td>\n      <td>1.0</td>\n      <td>1</td>\n      <td>1</td>\n      <td>0</td>\n      <td>8.0</td>\n      <td>1.0</td>\n      <td>0</td>\n      <td>671.0</td>\n      <td>300.0</td>\n      <td>1.0</td>\n      <td>1</td>\n      <td>20.0</td>\n      <td>1</td>\n      <td>0</td>\n      <td>1</td>\n      <td>0</td>\n      <td>0</td>\n      <td>1988-09-15</td>\n      <td>2001-11-17</td>\n      <td>1988-09-15</td>\n      <td>2000-01-01</td>\n      <td>20.0</td>\n      <td>46.0</td>\n      <td>46.0</td>\n      <td>1</td>\n    </tr>\n    <tr>\n      <th>1</th>\n      <td>550.0</td>\n      <td>419</td>\n      <td>1.0</td>\n      <td>3.0</td>\n      <td>5.0</td>\n      <td>1.0</td>\n      <td>1</td>\n      <td>0</td>\n      <td>0</td>\n      <td>8.0</td>\n      <td>1.0</td>\n      <td>0</td>\n      <td>671.0</td>\n      <td>300.0</td>\n      <td>1.0</td>\n      <td>1</td>\n      <td>20.0</td>\n      <td>1</td>\n      <td>0</td>\n      <td>1</td>\n      <td>0</td>\n      <td>0</td>\n      <td>1989-01-03</td>\n      <td>1989-02-10</td>\n      <td>1989-01-03</td>\n      <td>1991-03-14</td>\n      <td>20.0</td>\n      <td>46.0</td>\n      <td>46.0</td>\n      <td>1</td>\n    </tr>\n    <tr>\n      <th>2</th>\n      <td>2000.0</td>\n      <td>0</td>\n      <td>1.0</td>\n      <td>3.0</td>\n      <td>5.0</td>\n      <td>1.0</td>\n      <td>0</td>\n      <td>0</td>\n      <td>0</td>\n      <td>8.0</td>\n      <td>1.0</td>\n      <td>0</td>\n      <td>671.0</td>\n      <td>300.0</td>\n      <td>1.0</td>\n      <td>1</td>\n      <td>20.0</td>\n      <td>1</td>\n      <td>0</td>\n      <td>0</td>\n      <td>0</td>\n      <td>0</td>\n      <td>2001-04-28</td>\n      <td>1989-05-05</td>\n      <td>2001-04-28</td>\n      <td>2000-01-01</td>\n      <td>20.0</td>\n      <td>46.0</td>\n      <td>46.0</td>\n      <td>0</td>\n    </tr>\n    <tr>\n      <th>3</th>\n      <td>1500.0</td>\n      <td>313</td>\n      <td>1.0</td>\n      <td>3.0</td>\n      <td>5.0</td>\n      <td>1.0</td>\n      <td>1</td>\n      <td>0</td>\n      <td>0</td>\n      <td>19.0</td>\n      <td>1.0</td>\n      <td>0</td>\n      <td>671.0</td>\n      <td>300.0</td>\n      <td>1.0</td>\n      <td>1</td>\n      <td>20.0</td>\n      <td>1</td>\n      <td>0</td>\n      <td>1</td>\n      <td>0</td>\n      <td>0</td>\n      <td>1989-04-28</td>\n      <td>1989-05-13</td>\n      <td>1989-04-28</td>\n      <td>2000-01-01</td>\n      <td>49.0</td>\n      <td>46.0</td>\n      <td>46.0</td>\n      <td>0</td>\n    </tr>\n    <tr>\n      <th>4</th>\n      <td>1000.0</td>\n      <td>0</td>\n      <td>1.0</td>\n      <td>3.0</td>\n      <td>5.0</td>\n      <td>1.0</td>\n      <td>0</td>\n      <td>0</td>\n      <td>0</td>\n      <td>26.0</td>\n      <td>1.0</td>\n      <td>0</td>\n      <td>671.0</td>\n      <td>300.0</td>\n      <td>1.0</td>\n      <td>1</td>\n      <td>20.0</td>\n      <td>1</td>\n      <td>0</td>\n      <td>0</td>\n      <td>0</td>\n      <td>0</td>\n      <td>1989-05-15</td>\n      <td>1990-10-30</td>\n      <td>1989-05-15</td>\n      <td>2000-01-01</td>\n      <td>99.0</td>\n      <td>46.0</td>\n      <td>46.0</td>\n      <td>1</td>\n    </tr>\n  </tbody>\n</table>\n</div>"
          },
          "metadata": {}
        }
      ],
      "execution_count": 19,
      "metadata": {
        "gather": {
          "logged": 1751653575867
        }
      }
    },
    {
      "cell_type": "code",
      "source": [
        "#Dropping date columns\n",
        "df_contract = df_contract.drop(columns=['CreatedDate','ContractDueDate','IssueDate','CancellationDate'],axis=1)"
      ],
      "outputs": [],
      "execution_count": 20,
      "metadata": {
        "gather": {
          "logged": 1751653576078
        }
      }
    },
    {
      "cell_type": "code",
      "source": [
        "df_contract.head()"
      ],
      "outputs": [
        {
          "output_type": "execute_result",
          "execution_count": 21,
          "data": {
            "text/plain": "    Gross  AgentId  OfficeId  LineOfBusinessId  LeadSourceId  ContractTypeId  \\\n0  1700.0        0      17.0               2.0           3.0             1.0   \n1   550.0      419       1.0               3.0           5.0             1.0   \n2  2000.0        0       1.0               3.0           5.0             1.0   \n3  1500.0      313       1.0               3.0           5.0             1.0   \n4  1000.0        0       1.0               3.0           5.0             1.0   \n\n   IsReseller  IsBuySell  IsBackendDeal  EventTypeId  TimezoneId  \\\n0           1          1              0          8.0         1.0   \n1           1          0              0          8.0         1.0   \n2           0          0              0          8.0         1.0   \n3           1          0              0         19.0         1.0   \n4           0          0              0         26.0         1.0   \n\n   IsPublicEvent  VenueId  VenueCapacity  VenueSettingId  IsSettingCovered  \\\n0              0    671.0          300.0             1.0                 1   \n1              0    671.0          300.0             1.0                 1   \n2              0    671.0          300.0             1.0                 1   \n3              0    671.0          300.0             1.0                 1   \n4              0    671.0          300.0             1.0                 1   \n\n   ECECommissionRate  IsCommissionPercentage  HasIssues  IsNoIssue  \\\n0               20.0                       1          0          1   \n1               20.0                       1          0          1   \n2               20.0                       1          0          0   \n3               20.0                       1          0          1   \n4               20.0                       1          0          0   \n\n   IsWillAgentAttendTheEvent  IsSalaried  PresenterTypeId  \\\n0                          0           0             20.0   \n1                          0           0             20.0   \n2                          0           0             20.0   \n3                          0           0             49.0   \n4                          0           0             99.0   \n\n   PresenterMailingStateId  VenuePhysicalStateId  IsFinalized  \n0                     46.0                  46.0            1  \n1                     46.0                  46.0            1  \n2                     46.0                  46.0            0  \n3                     46.0                  46.0            0  \n4                     46.0                  46.0            1  ",
            "text/html": "<div>\n<style scoped>\n    .dataframe tbody tr th:only-of-type {\n        vertical-align: middle;\n    }\n\n    .dataframe tbody tr th {\n        vertical-align: top;\n    }\n\n    .dataframe thead th {\n        text-align: right;\n    }\n</style>\n<table border=\"1\" class=\"dataframe\">\n  <thead>\n    <tr style=\"text-align: right;\">\n      <th></th>\n      <th>Gross</th>\n      <th>AgentId</th>\n      <th>OfficeId</th>\n      <th>LineOfBusinessId</th>\n      <th>LeadSourceId</th>\n      <th>ContractTypeId</th>\n      <th>IsReseller</th>\n      <th>IsBuySell</th>\n      <th>IsBackendDeal</th>\n      <th>EventTypeId</th>\n      <th>TimezoneId</th>\n      <th>IsPublicEvent</th>\n      <th>VenueId</th>\n      <th>VenueCapacity</th>\n      <th>VenueSettingId</th>\n      <th>IsSettingCovered</th>\n      <th>ECECommissionRate</th>\n      <th>IsCommissionPercentage</th>\n      <th>HasIssues</th>\n      <th>IsNoIssue</th>\n      <th>IsWillAgentAttendTheEvent</th>\n      <th>IsSalaried</th>\n      <th>PresenterTypeId</th>\n      <th>PresenterMailingStateId</th>\n      <th>VenuePhysicalStateId</th>\n      <th>IsFinalized</th>\n    </tr>\n  </thead>\n  <tbody>\n    <tr>\n      <th>0</th>\n      <td>1700.0</td>\n      <td>0</td>\n      <td>17.0</td>\n      <td>2.0</td>\n      <td>3.0</td>\n      <td>1.0</td>\n      <td>1</td>\n      <td>1</td>\n      <td>0</td>\n      <td>8.0</td>\n      <td>1.0</td>\n      <td>0</td>\n      <td>671.0</td>\n      <td>300.0</td>\n      <td>1.0</td>\n      <td>1</td>\n      <td>20.0</td>\n      <td>1</td>\n      <td>0</td>\n      <td>1</td>\n      <td>0</td>\n      <td>0</td>\n      <td>20.0</td>\n      <td>46.0</td>\n      <td>46.0</td>\n      <td>1</td>\n    </tr>\n    <tr>\n      <th>1</th>\n      <td>550.0</td>\n      <td>419</td>\n      <td>1.0</td>\n      <td>3.0</td>\n      <td>5.0</td>\n      <td>1.0</td>\n      <td>1</td>\n      <td>0</td>\n      <td>0</td>\n      <td>8.0</td>\n      <td>1.0</td>\n      <td>0</td>\n      <td>671.0</td>\n      <td>300.0</td>\n      <td>1.0</td>\n      <td>1</td>\n      <td>20.0</td>\n      <td>1</td>\n      <td>0</td>\n      <td>1</td>\n      <td>0</td>\n      <td>0</td>\n      <td>20.0</td>\n      <td>46.0</td>\n      <td>46.0</td>\n      <td>1</td>\n    </tr>\n    <tr>\n      <th>2</th>\n      <td>2000.0</td>\n      <td>0</td>\n      <td>1.0</td>\n      <td>3.0</td>\n      <td>5.0</td>\n      <td>1.0</td>\n      <td>0</td>\n      <td>0</td>\n      <td>0</td>\n      <td>8.0</td>\n      <td>1.0</td>\n      <td>0</td>\n      <td>671.0</td>\n      <td>300.0</td>\n      <td>1.0</td>\n      <td>1</td>\n      <td>20.0</td>\n      <td>1</td>\n      <td>0</td>\n      <td>0</td>\n      <td>0</td>\n      <td>0</td>\n      <td>20.0</td>\n      <td>46.0</td>\n      <td>46.0</td>\n      <td>0</td>\n    </tr>\n    <tr>\n      <th>3</th>\n      <td>1500.0</td>\n      <td>313</td>\n      <td>1.0</td>\n      <td>3.0</td>\n      <td>5.0</td>\n      <td>1.0</td>\n      <td>1</td>\n      <td>0</td>\n      <td>0</td>\n      <td>19.0</td>\n      <td>1.0</td>\n      <td>0</td>\n      <td>671.0</td>\n      <td>300.0</td>\n      <td>1.0</td>\n      <td>1</td>\n      <td>20.0</td>\n      <td>1</td>\n      <td>0</td>\n      <td>1</td>\n      <td>0</td>\n      <td>0</td>\n      <td>49.0</td>\n      <td>46.0</td>\n      <td>46.0</td>\n      <td>0</td>\n    </tr>\n    <tr>\n      <th>4</th>\n      <td>1000.0</td>\n      <td>0</td>\n      <td>1.0</td>\n      <td>3.0</td>\n      <td>5.0</td>\n      <td>1.0</td>\n      <td>0</td>\n      <td>0</td>\n      <td>0</td>\n      <td>26.0</td>\n      <td>1.0</td>\n      <td>0</td>\n      <td>671.0</td>\n      <td>300.0</td>\n      <td>1.0</td>\n      <td>1</td>\n      <td>20.0</td>\n      <td>1</td>\n      <td>0</td>\n      <td>0</td>\n      <td>0</td>\n      <td>0</td>\n      <td>99.0</td>\n      <td>46.0</td>\n      <td>46.0</td>\n      <td>1</td>\n    </tr>\n  </tbody>\n</table>\n</div>"
          },
          "metadata": {}
        }
      ],
      "execution_count": 21,
      "metadata": {
        "gather": {
          "logged": 1751653576246
        }
      }
    },
    {
      "cell_type": "markdown",
      "source": [
        "## Model Building"
      ],
      "metadata": {
        "nteract": {
          "transient": {
            "deleting": false
          }
        }
      }
    },
    {
      "cell_type": "code",
      "source": [
        "from sklearn.model_selection import train_test_split\n",
        "from sklearn.ensemble import RandomForestClassifier\n",
        "from sklearn.metrics import classification_report, accuracy_score, confusion_matrix"
      ],
      "outputs": [],
      "execution_count": 30,
      "metadata": {
        "gather": {
          "logged": 1751654062404
        }
      }
    },
    {
      "cell_type": "code",
      "source": [
        "X = df_contract.drop(columns=['IsFinalized'])\n",
        "y = df_contract['IsFinalized']"
      ],
      "outputs": [],
      "execution_count": 26,
      "metadata": {
        "gather": {
          "logged": 1751653853248
        }
      }
    },
    {
      "cell_type": "code",
      "source": [
        "X_train, X_test, y_train, y_test = train_test_split(\n",
        "    X, y, test_size=0.2, random_state=42, stratify=y\n",
        ")"
      ],
      "outputs": [],
      "execution_count": 27,
      "metadata": {
        "gather": {
          "logged": 1751653857642
        }
      }
    },
    {
      "cell_type": "code",
      "source": [
        "rf = RandomForestClassifier(n_estimators=600, random_state=42, criterion='gini')\n",
        "rf.fit(X_train, y_train)"
      ],
      "outputs": [
        {
          "output_type": "execute_result",
          "execution_count": 43,
          "data": {
            "text/plain": "RandomForestClassifier(n_estimators=600, random_state=42)",
            "text/html": "<style>#sk-container-id-4 {\n  /* Definition of color scheme common for light and dark mode */\n  --sklearn-color-text: #000;\n  --sklearn-color-text-muted: #666;\n  --sklearn-color-line: gray;\n  /* Definition of color scheme for unfitted estimators */\n  --sklearn-color-unfitted-level-0: #fff5e6;\n  --sklearn-color-unfitted-level-1: #f6e4d2;\n  --sklearn-color-unfitted-level-2: #ffe0b3;\n  --sklearn-color-unfitted-level-3: chocolate;\n  /* Definition of color scheme for fitted estimators */\n  --sklearn-color-fitted-level-0: #f0f8ff;\n  --sklearn-color-fitted-level-1: #d4ebff;\n  --sklearn-color-fitted-level-2: #b3dbfd;\n  --sklearn-color-fitted-level-3: cornflowerblue;\n\n  /* Specific color for light theme */\n  --sklearn-color-text-on-default-background: var(--sg-text-color, var(--theme-code-foreground, var(--jp-content-font-color1, black)));\n  --sklearn-color-background: var(--sg-background-color, var(--theme-background, var(--jp-layout-color0, white)));\n  --sklearn-color-border-box: var(--sg-text-color, var(--theme-code-foreground, var(--jp-content-font-color1, black)));\n  --sklearn-color-icon: #696969;\n\n  @media (prefers-color-scheme: dark) {\n    /* Redefinition of color scheme for dark theme */\n    --sklearn-color-text-on-default-background: var(--sg-text-color, var(--theme-code-foreground, var(--jp-content-font-color1, white)));\n    --sklearn-color-background: var(--sg-background-color, var(--theme-background, var(--jp-layout-color0, #111)));\n    --sklearn-color-border-box: var(--sg-text-color, var(--theme-code-foreground, var(--jp-content-font-color1, white)));\n    --sklearn-color-icon: #878787;\n  }\n}\n\n#sk-container-id-4 {\n  color: var(--sklearn-color-text);\n}\n\n#sk-container-id-4 pre {\n  padding: 0;\n}\n\n#sk-container-id-4 input.sk-hidden--visually {\n  border: 0;\n  clip: rect(1px 1px 1px 1px);\n  clip: rect(1px, 1px, 1px, 1px);\n  height: 1px;\n  margin: -1px;\n  overflow: hidden;\n  padding: 0;\n  position: absolute;\n  width: 1px;\n}\n\n#sk-container-id-4 div.sk-dashed-wrapped {\n  border: 1px dashed var(--sklearn-color-line);\n  margin: 0 0.4em 0.5em 0.4em;\n  box-sizing: border-box;\n  padding-bottom: 0.4em;\n  background-color: var(--sklearn-color-background);\n}\n\n#sk-container-id-4 div.sk-container {\n  /* jupyter's `normalize.less` sets `[hidden] { display: none; }`\n     but bootstrap.min.css set `[hidden] { display: none !important; }`\n     so we also need the `!important` here to be able to override the\n     default hidden behavior on the sphinx rendered scikit-learn.org.\n     See: https://github.com/scikit-learn/scikit-learn/issues/21755 */\n  display: inline-block !important;\n  position: relative;\n}\n\n#sk-container-id-4 div.sk-text-repr-fallback {\n  display: none;\n}\n\ndiv.sk-parallel-item,\ndiv.sk-serial,\ndiv.sk-item {\n  /* draw centered vertical line to link estimators */\n  background-image: linear-gradient(var(--sklearn-color-text-on-default-background), var(--sklearn-color-text-on-default-background));\n  background-size: 2px 100%;\n  background-repeat: no-repeat;\n  background-position: center center;\n}\n\n/* Parallel-specific style estimator block */\n\n#sk-container-id-4 div.sk-parallel-item::after {\n  content: \"\";\n  width: 100%;\n  border-bottom: 2px solid var(--sklearn-color-text-on-default-background);\n  flex-grow: 1;\n}\n\n#sk-container-id-4 div.sk-parallel {\n  display: flex;\n  align-items: stretch;\n  justify-content: center;\n  background-color: var(--sklearn-color-background);\n  position: relative;\n}\n\n#sk-container-id-4 div.sk-parallel-item {\n  display: flex;\n  flex-direction: column;\n}\n\n#sk-container-id-4 div.sk-parallel-item:first-child::after {\n  align-self: flex-end;\n  width: 50%;\n}\n\n#sk-container-id-4 div.sk-parallel-item:last-child::after {\n  align-self: flex-start;\n  width: 50%;\n}\n\n#sk-container-id-4 div.sk-parallel-item:only-child::after {\n  width: 0;\n}\n\n/* Serial-specific style estimator block */\n\n#sk-container-id-4 div.sk-serial {\n  display: flex;\n  flex-direction: column;\n  align-items: center;\n  background-color: var(--sklearn-color-background);\n  padding-right: 1em;\n  padding-left: 1em;\n}\n\n\n/* Toggleable style: style used for estimator/Pipeline/ColumnTransformer box that is\nclickable and can be expanded/collapsed.\n- Pipeline and ColumnTransformer use this feature and define the default style\n- Estimators will overwrite some part of the style using the `sk-estimator` class\n*/\n\n/* Pipeline and ColumnTransformer style (default) */\n\n#sk-container-id-4 div.sk-toggleable {\n  /* Default theme specific background. It is overwritten whether we have a\n  specific estimator or a Pipeline/ColumnTransformer */\n  background-color: var(--sklearn-color-background);\n}\n\n/* Toggleable label */\n#sk-container-id-4 label.sk-toggleable__label {\n  cursor: pointer;\n  display: flex;\n  width: 100%;\n  margin-bottom: 0;\n  padding: 0.5em;\n  box-sizing: border-box;\n  text-align: center;\n  align-items: start;\n  justify-content: space-between;\n  gap: 0.5em;\n}\n\n#sk-container-id-4 label.sk-toggleable__label .caption {\n  font-size: 0.6rem;\n  font-weight: lighter;\n  color: var(--sklearn-color-text-muted);\n}\n\n#sk-container-id-4 label.sk-toggleable__label-arrow:before {\n  /* Arrow on the left of the label */\n  content: \"▸\";\n  float: left;\n  margin-right: 0.25em;\n  color: var(--sklearn-color-icon);\n}\n\n#sk-container-id-4 label.sk-toggleable__label-arrow:hover:before {\n  color: var(--sklearn-color-text);\n}\n\n/* Toggleable content - dropdown */\n\n#sk-container-id-4 div.sk-toggleable__content {\n  max-height: 0;\n  max-width: 0;\n  overflow: hidden;\n  text-align: left;\n  /* unfitted */\n  background-color: var(--sklearn-color-unfitted-level-0);\n}\n\n#sk-container-id-4 div.sk-toggleable__content.fitted {\n  /* fitted */\n  background-color: var(--sklearn-color-fitted-level-0);\n}\n\n#sk-container-id-4 div.sk-toggleable__content pre {\n  margin: 0.2em;\n  border-radius: 0.25em;\n  color: var(--sklearn-color-text);\n  /* unfitted */\n  background-color: var(--sklearn-color-unfitted-level-0);\n}\n\n#sk-container-id-4 div.sk-toggleable__content.fitted pre {\n  /* unfitted */\n  background-color: var(--sklearn-color-fitted-level-0);\n}\n\n#sk-container-id-4 input.sk-toggleable__control:checked~div.sk-toggleable__content {\n  /* Expand drop-down */\n  max-height: 200px;\n  max-width: 100%;\n  overflow: auto;\n}\n\n#sk-container-id-4 input.sk-toggleable__control:checked~label.sk-toggleable__label-arrow:before {\n  content: \"▾\";\n}\n\n/* Pipeline/ColumnTransformer-specific style */\n\n#sk-container-id-4 div.sk-label input.sk-toggleable__control:checked~label.sk-toggleable__label {\n  color: var(--sklearn-color-text);\n  background-color: var(--sklearn-color-unfitted-level-2);\n}\n\n#sk-container-id-4 div.sk-label.fitted input.sk-toggleable__control:checked~label.sk-toggleable__label {\n  background-color: var(--sklearn-color-fitted-level-2);\n}\n\n/* Estimator-specific style */\n\n/* Colorize estimator box */\n#sk-container-id-4 div.sk-estimator input.sk-toggleable__control:checked~label.sk-toggleable__label {\n  /* unfitted */\n  background-color: var(--sklearn-color-unfitted-level-2);\n}\n\n#sk-container-id-4 div.sk-estimator.fitted input.sk-toggleable__control:checked~label.sk-toggleable__label {\n  /* fitted */\n  background-color: var(--sklearn-color-fitted-level-2);\n}\n\n#sk-container-id-4 div.sk-label label.sk-toggleable__label,\n#sk-container-id-4 div.sk-label label {\n  /* The background is the default theme color */\n  color: var(--sklearn-color-text-on-default-background);\n}\n\n/* On hover, darken the color of the background */\n#sk-container-id-4 div.sk-label:hover label.sk-toggleable__label {\n  color: var(--sklearn-color-text);\n  background-color: var(--sklearn-color-unfitted-level-2);\n}\n\n/* Label box, darken color on hover, fitted */\n#sk-container-id-4 div.sk-label.fitted:hover label.sk-toggleable__label.fitted {\n  color: var(--sklearn-color-text);\n  background-color: var(--sklearn-color-fitted-level-2);\n}\n\n/* Estimator label */\n\n#sk-container-id-4 div.sk-label label {\n  font-family: monospace;\n  font-weight: bold;\n  display: inline-block;\n  line-height: 1.2em;\n}\n\n#sk-container-id-4 div.sk-label-container {\n  text-align: center;\n}\n\n/* Estimator-specific */\n#sk-container-id-4 div.sk-estimator {\n  font-family: monospace;\n  border: 1px dotted var(--sklearn-color-border-box);\n  border-radius: 0.25em;\n  box-sizing: border-box;\n  margin-bottom: 0.5em;\n  /* unfitted */\n  background-color: var(--sklearn-color-unfitted-level-0);\n}\n\n#sk-container-id-4 div.sk-estimator.fitted {\n  /* fitted */\n  background-color: var(--sklearn-color-fitted-level-0);\n}\n\n/* on hover */\n#sk-container-id-4 div.sk-estimator:hover {\n  /* unfitted */\n  background-color: var(--sklearn-color-unfitted-level-2);\n}\n\n#sk-container-id-4 div.sk-estimator.fitted:hover {\n  /* fitted */\n  background-color: var(--sklearn-color-fitted-level-2);\n}\n\n/* Specification for estimator info (e.g. \"i\" and \"?\") */\n\n/* Common style for \"i\" and \"?\" */\n\n.sk-estimator-doc-link,\na:link.sk-estimator-doc-link,\na:visited.sk-estimator-doc-link {\n  float: right;\n  font-size: smaller;\n  line-height: 1em;\n  font-family: monospace;\n  background-color: var(--sklearn-color-background);\n  border-radius: 1em;\n  height: 1em;\n  width: 1em;\n  text-decoration: none !important;\n  margin-left: 0.5em;\n  text-align: center;\n  /* unfitted */\n  border: var(--sklearn-color-unfitted-level-1) 1pt solid;\n  color: var(--sklearn-color-unfitted-level-1);\n}\n\n.sk-estimator-doc-link.fitted,\na:link.sk-estimator-doc-link.fitted,\na:visited.sk-estimator-doc-link.fitted {\n  /* fitted */\n  border: var(--sklearn-color-fitted-level-1) 1pt solid;\n  color: var(--sklearn-color-fitted-level-1);\n}\n\n/* On hover */\ndiv.sk-estimator:hover .sk-estimator-doc-link:hover,\n.sk-estimator-doc-link:hover,\ndiv.sk-label-container:hover .sk-estimator-doc-link:hover,\n.sk-estimator-doc-link:hover {\n  /* unfitted */\n  background-color: var(--sklearn-color-unfitted-level-3);\n  color: var(--sklearn-color-background);\n  text-decoration: none;\n}\n\ndiv.sk-estimator.fitted:hover .sk-estimator-doc-link.fitted:hover,\n.sk-estimator-doc-link.fitted:hover,\ndiv.sk-label-container:hover .sk-estimator-doc-link.fitted:hover,\n.sk-estimator-doc-link.fitted:hover {\n  /* fitted */\n  background-color: var(--sklearn-color-fitted-level-3);\n  color: var(--sklearn-color-background);\n  text-decoration: none;\n}\n\n/* Span, style for the box shown on hovering the info icon */\n.sk-estimator-doc-link span {\n  display: none;\n  z-index: 9999;\n  position: relative;\n  font-weight: normal;\n  right: .2ex;\n  padding: .5ex;\n  margin: .5ex;\n  width: min-content;\n  min-width: 20ex;\n  max-width: 50ex;\n  color: var(--sklearn-color-text);\n  box-shadow: 2pt 2pt 4pt #999;\n  /* unfitted */\n  background: var(--sklearn-color-unfitted-level-0);\n  border: .5pt solid var(--sklearn-color-unfitted-level-3);\n}\n\n.sk-estimator-doc-link.fitted span {\n  /* fitted */\n  background: var(--sklearn-color-fitted-level-0);\n  border: var(--sklearn-color-fitted-level-3);\n}\n\n.sk-estimator-doc-link:hover span {\n  display: block;\n}\n\n/* \"?\"-specific style due to the `<a>` HTML tag */\n\n#sk-container-id-4 a.estimator_doc_link {\n  float: right;\n  font-size: 1rem;\n  line-height: 1em;\n  font-family: monospace;\n  background-color: var(--sklearn-color-background);\n  border-radius: 1rem;\n  height: 1rem;\n  width: 1rem;\n  text-decoration: none;\n  /* unfitted */\n  color: var(--sklearn-color-unfitted-level-1);\n  border: var(--sklearn-color-unfitted-level-1) 1pt solid;\n}\n\n#sk-container-id-4 a.estimator_doc_link.fitted {\n  /* fitted */\n  border: var(--sklearn-color-fitted-level-1) 1pt solid;\n  color: var(--sklearn-color-fitted-level-1);\n}\n\n/* On hover */\n#sk-container-id-4 a.estimator_doc_link:hover {\n  /* unfitted */\n  background-color: var(--sklearn-color-unfitted-level-3);\n  color: var(--sklearn-color-background);\n  text-decoration: none;\n}\n\n#sk-container-id-4 a.estimator_doc_link.fitted:hover {\n  /* fitted */\n  background-color: var(--sklearn-color-fitted-level-3);\n}\n</style><div id=\"sk-container-id-4\" class=\"sk-top-container\"><div class=\"sk-text-repr-fallback\"><pre>RandomForestClassifier(n_estimators=600, random_state=42)</pre><b>In a Jupyter environment, please rerun this cell to show the HTML representation or trust the notebook. <br />On GitHub, the HTML representation is unable to render, please try loading this page with nbviewer.org.</b></div><div class=\"sk-container\" hidden><div class=\"sk-item\"><div class=\"sk-estimator fitted sk-toggleable\"><input class=\"sk-toggleable__control sk-hidden--visually\" id=\"sk-estimator-id-4\" type=\"checkbox\" checked><label for=\"sk-estimator-id-4\" class=\"sk-toggleable__label fitted sk-toggleable__label-arrow\"><div><div>RandomForestClassifier</div></div><div><a class=\"sk-estimator-doc-link fitted\" rel=\"noreferrer\" target=\"_blank\" href=\"https://scikit-learn.org/1.6/modules/generated/sklearn.ensemble.RandomForestClassifier.html\">?<span>Documentation for RandomForestClassifier</span></a><span class=\"sk-estimator-doc-link fitted\">i<span>Fitted</span></span></div></label><div class=\"sk-toggleable__content fitted\"><pre>RandomForestClassifier(n_estimators=600, random_state=42)</pre></div> </div></div></div></div>"
          },
          "metadata": {}
        }
      ],
      "execution_count": 43,
      "metadata": {
        "gather": {
          "logged": 1751654731873
        }
      }
    },
    {
      "cell_type": "code",
      "source": [
        "# Predict class labels\n",
        "y_pred = rf.predict(X_test)\n",
        "\n",
        "# Accuracy\n",
        "accuracy = accuracy_score(y_test, y_pred)\n",
        "percentage = round(accuracy * 100, 2)  \n",
        "print(f\"Accuracy: {percentage}%\")\n"
      ],
      "outputs": [
        {
          "output_type": "stream",
          "name": "stdout",
          "text": "Accuracy: 69.64%\n"
        }
      ],
      "execution_count": 44,
      "metadata": {
        "gather": {
          "logged": 1751654749245
        }
      }
    },
    {
      "cell_type": "code",
      "source": [
        "# Full classification report\n",
        "print(\"\\nClassification Report:\\n\", classification_report(y_test, y_pred))"
      ],
      "outputs": [
        {
          "output_type": "stream",
          "name": "stdout",
          "text": "\nClassification Report:\n               precision    recall  f1-score   support\n\n           0       0.74      0.82      0.77     38698\n           1       0.60      0.49      0.54     22029\n\n    accuracy                           0.70     60727\n   macro avg       0.67      0.65      0.66     60727\nweighted avg       0.69      0.70      0.69     60727\n\n"
        }
      ],
      "execution_count": 45,
      "metadata": {
        "gather": {
          "logged": 1751654749439
        }
      }
    },
    {
      "cell_type": "code",
      "source": [
        "# Confusion matrix\n",
        "cm = confusion_matrix(y_test, y_pred)\n",
        "print(\"\\nConfusion Matrix:\\n\", cm)"
      ],
      "outputs": [
        {
          "output_type": "stream",
          "name": "stdout",
          "text": "\nConfusion Matrix:\n [[31540  7158]\n [11279 10750]]\n"
        }
      ],
      "execution_count": 46,
      "metadata": {
        "gather": {
          "logged": 1751654749636
        }
      }
    },
    {
      "cell_type": "code",
      "source": [
        "import pandas as pd\n",
        "import matplotlib.pyplot as plt\n",
        "import seaborn as sns\n",
        "\n",
        "# Get feature importances\n",
        "importances = rf.feature_importances_\n",
        "features = X.columns\n",
        "\n",
        "# Create DataFrame\n",
        "feat_imp_df = pd.DataFrame({'Feature': features, 'Importance': importances})\n",
        "feat_imp_df = feat_imp_df.sort_values(by='Importance', ascending=False)\n",
        "\n",
        "# Plot\n",
        "plt.figure(figsize=(12, 6))\n",
        "sns.barplot(x='Importance', y='Feature', data=feat_imp_df.head(15))\n",
        "plt.title('Top Features Predicting IsFinalized')\n",
        "plt.tight_layout()\n",
        "plt.show()"
      ],
      "outputs": [
        {
          "output_type": "display_data",
          "data": {
            "text/plain": "<Figure size 1200x600 with 1 Axes>",
            "image/png": "[encoded data removed]"
          },
          "metadata": {}
        }
      ],
      "execution_count": 29,
      "metadata": {
        "gather": {
          "logged": 1751653904734
        }
      }
    },
    {
      "cell_type": "code",
      "source": [],
      "outputs": [],
      "execution_count": null,
      "metadata": {}
    }
  ],
  "metadata": {
    "kernel_info": {
      "name": "python310-sdkv2"
    },
    "kernelspec": {
      "name": "python310-sdkv2",
      "language": "python",
      "display_name": "Python 3.10 - SDK v2"
    },
    "language_info": {
      "name": "python",
      "version": "3.10.16",
      "mimetype": "text/x-python",
      "codemirror_mode": {
        "name": "ipython",
        "version": 3
      },
      "pygments_lexer": "ipython3",
      "nbconvert_exporter": "python",
      "file_extension": ".py"
    },
    "microsoft": {
      "host": {
        "AzureML": {
          "notebookHasBeenCompleted": true
        }
      },
      "ms_spell_check": {
        "ms_spell_check_language": "en"
      }
    },
    "nteract": {
      "version": "nteract-front-end@1.0.0"
    }
  },
  "nbformat": 4,
  "nbformat_minor": 2
}