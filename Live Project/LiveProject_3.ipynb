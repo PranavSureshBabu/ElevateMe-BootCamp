{
  "cells": [
    {
      "cell_type": "markdown",
      "source": [
        "## Live Project \n",
        "\n",
        "### Objective \n",
        "Sales director of the company is tasked with developing key sales statistical and analytical insights to grow the company to make informed business decisions. These analyses serves as evaluating agent performance, revenue, expenses and probability. These insights will help them to steer the agency towards sustained growth and success in dynamic entertainment landscape.\n"
      ],
      "metadata": {
        "nteract": {
          "transient": {
            "deleting": false
          }
        }
      }
    },
    {
      "cell_type": "markdown",
      "source": [
        "## Establishing SQL connection to Machine Learning"
      ],
      "metadata": {
        "nteract": {
          "transient": {
            "deleting": false
          }
        }
      }
    },
    {
      "cell_type": "code",
      "source": [
        "import pandas as pd\n",
        "from sqlalchemy import create_engine # Takes in the connection URL and returns SQLALchemy Engine\n",
        "import urllib #Handling URLs, parsing them and sending HTTP request\n",
        "\n",
        "# DB credentials\n",
        "server = 'qaececrm-s1.database.windows.net'  \n",
        "database = 'QAECECRM_June2025'\n",
        "username = 'dbadmin'\n",
        "password = 'DashTech1234'\n",
        "driver = 'ODBC Driver 17 for SQL Server'\n",
        "\n",
        "# Create connection string\n",
        "params = urllib.parse.quote_plus(\n",
        "    f\"DRIVER={driver};SERVER={server};DATABASE={database};UID={username};PWD={password}\"\n",
        ")\n",
        "\n",
        "engine = create_engine(f\"mssql+pyodbc:///?odbc_connect={params}\")"
      ],
      "outputs": [],
      "execution_count": 36,
      "metadata": {
        "gather": {
          "logged": 1751060162006
        }
      }
    },
    {
      "cell_type": "markdown",
      "source": [
        "### Collecting and Generating the Tables From the Database"
      ],
      "metadata": {
        "nteract": {
          "transient": {
            "deleting": false
          }
        }
      }
    },
    {
      "cell_type": "code",
      "source": [
        "from sqlalchemy import text #to run raw SQL queries\n",
        "\n",
        "def get_all_table(engine):\n",
        "    with engine.connect() as conn:\n",
        "        result = conn.execute(text(\"\"\"SELECT t.name as table_name\n",
        "                                  FROM sys.tables t\n",
        "                                  ORDER BY t.name\"\"\"))\n",
        "        table_list = [row[0] for row in result]\n",
        "        table_df = pd.DataFrame(table_list, columns=['Name of the tables'])\n",
        "    return table_df    \n",
        "\n",
        "\n",
        "table_df = get_all_table(engine)\n",
        "#table_list = table_df['Name of the tables'].tolist()\n",
        "#print(table_list)\n",
        "#Count of the tables\n",
        "print(f\"Total number of tables presented: {len(table_df)}\")\n",
        "\n",
        "table_df"
      ],
      "outputs": [
        {
          "output_type": "stream",
          "name": "stdout",
          "text": "Total number of tables presented: 189\n"
        },
        {
          "output_type": "execute_result",
          "execution_count": 37,
          "data": {
            "text/plain": "               Name of the tables\n0                 AgentCommission\n1          AgentCommissionProgram\n2         AgentCommissionTypeData\n3                 AgentPayrollLog\n4                           Alert\n..                            ...\n184              VenueDescription\n185                VenueGenreType\n186              VenueRequirement\n187  VenueRequirementNotification\n188                       WebLink\n\n[189 rows x 1 columns]",
            "text/html": "<div>\n<style scoped>\n    .dataframe tbody tr th:only-of-type {\n        vertical-align: middle;\n    }\n\n    .dataframe tbody tr th {\n        vertical-align: top;\n    }\n\n    .dataframe thead th {\n        text-align: right;\n    }\n</style>\n<table border=\"1\" class=\"dataframe\">\n  <thead>\n    <tr style=\"text-align: right;\">\n      <th></th>\n      <th>Name of the tables</th>\n    </tr>\n  </thead>\n  <tbody>\n    <tr>\n      <th>0</th>\n      <td>AgentCommission</td>\n    </tr>\n    <tr>\n      <th>1</th>\n      <td>AgentCommissionProgram</td>\n    </tr>\n    <tr>\n      <th>2</th>\n      <td>AgentCommissionTypeData</td>\n    </tr>\n    <tr>\n      <th>3</th>\n      <td>AgentPayrollLog</td>\n    </tr>\n    <tr>\n      <th>4</th>\n      <td>Alert</td>\n    </tr>\n    <tr>\n      <th>...</th>\n      <td>...</td>\n    </tr>\n    <tr>\n      <th>184</th>\n      <td>VenueDescription</td>\n    </tr>\n    <tr>\n      <th>185</th>\n      <td>VenueGenreType</td>\n    </tr>\n    <tr>\n      <th>186</th>\n      <td>VenueRequirement</td>\n    </tr>\n    <tr>\n      <th>187</th>\n      <td>VenueRequirementNotification</td>\n    </tr>\n    <tr>\n      <th>188</th>\n      <td>WebLink</td>\n    </tr>\n  </tbody>\n</table>\n<p>189 rows × 1 columns</p>\n</div>"
          },
          "metadata": {}
        }
      ],
      "execution_count": 37,
      "metadata": {
        "gather": {
          "logged": 1751060164535
        }
      }
    },
    {
      "cell_type": "markdown",
      "source": [
        "**Insights**"
      ],
      "metadata": {
        "nteract": {
          "transient": {
            "deleting": false
          }
        }
      }
    },
    {
      "cell_type": "code",
      "source": [
        "from sqlalchemy import text\n",
        "\n",
        "def run_query(engine, query):\n",
        "    with engine.connect() as conn:\n",
        "        df = pd.read_sql(text(query), conn)\n",
        "    return df"
      ],
      "outputs": [],
      "execution_count": 38,
      "metadata": {
        "gather": {
          "logged": 1751060168471
        }
      }
    },
    {
      "cell_type": "markdown",
      "source": [
        "### 1) Offer Volume Breakdown by Year and Month"
      ],
      "metadata": {
        "nteract": {
          "transient": {
            "deleting": false
          }
        }
      }
    },
    {
      "cell_type": "code",
      "source": [
        "q1 = \"\"\"\n",
        "SELECT \n",
        "    YEAR(CreatedDate) AS Year,\n",
        "    MONTH(CreatedDate) AS Month,\n",
        "    COUNT(*) AS OfferCount\n",
        "FROM Offer\n",
        "GROUP BY YEAR(CreatedDate), MONTH(CreatedDate)\n",
        "ORDER BY Year, Month;\n",
        "\"\"\"\n",
        "df_q1 = run_query(engine, q1)\n",
        "df_q1.head()"
      ],
      "outputs": [
        {
          "output_type": "execute_result",
          "execution_count": 4,
          "data": {
            "text/plain": "   Year  Month  OfferCount\n0  2018      6          16\n1  2018      7           9\n2  2018      8           2\n3  2018     12           2\n4  2020      5           2",
            "text/html": "<div>\n<style scoped>\n    .dataframe tbody tr th:only-of-type {\n        vertical-align: middle;\n    }\n\n    .dataframe tbody tr th {\n        vertical-align: top;\n    }\n\n    .dataframe thead th {\n        text-align: right;\n    }\n</style>\n<table border=\"1\" class=\"dataframe\">\n  <thead>\n    <tr style=\"text-align: right;\">\n      <th></th>\n      <th>Year</th>\n      <th>Month</th>\n      <th>OfferCount</th>\n    </tr>\n  </thead>\n  <tbody>\n    <tr>\n      <th>0</th>\n      <td>2018</td>\n      <td>6</td>\n      <td>16</td>\n    </tr>\n    <tr>\n      <th>1</th>\n      <td>2018</td>\n      <td>7</td>\n      <td>9</td>\n    </tr>\n    <tr>\n      <th>2</th>\n      <td>2018</td>\n      <td>8</td>\n      <td>2</td>\n    </tr>\n    <tr>\n      <th>3</th>\n      <td>2018</td>\n      <td>12</td>\n      <td>2</td>\n    </tr>\n    <tr>\n      <th>4</th>\n      <td>2020</td>\n      <td>5</td>\n      <td>2</td>\n    </tr>\n  </tbody>\n</table>\n</div>"
          },
          "metadata": {}
        }
      ],
      "execution_count": 4,
      "metadata": {
        "gather": {
          "logged": 1751058941171
        }
      }
    },
    {
      "cell_type": "markdown",
      "source": [
        "### 2) Top Presenters by Ticketed Events"
      ],
      "metadata": {
        "nteract": {
          "transient": {
            "deleting": false
          }
        }
      }
    },
    {
      "cell_type": "markdown",
      "source": [
        "Find which presenters are hosting the most revenue-potential events."
      ],
      "metadata": {
        "nteract": {
          "transient": {
            "deleting": false
          }
        }
      }
    },
    {
      "cell_type": "code",
      "source": [
        "q2 = \"\"\"SELECT \n",
        "    PresenterName, \n",
        "    COUNT(*) AS TicketedEventCount\n",
        "FROM Offer\n",
        "WHERE IsTicketedEvent = 1\n",
        "GROUP BY PresenterName\n",
        "ORDER BY TicketedEventCount DESC\n",
        "\"\"\"\n",
        "df_q2 = run_query(engine, q2)\n",
        "df_q2.head()"
      ],
      "outputs": [
        {
          "output_type": "execute_result",
          "execution_count": 5,
          "data": {
            "text/plain": "                       PresenterName  TicketedEventCount\n0             ROANOKE RAPIDS THEATRE                   6\n1  Hillbilly Christmas in July, Inc.                   1\n2      HOWARD PERFORMING ARTS CENTER                   1\n3         Kris Kaminski - Test Offer                   1\n4                   MAJESTIC THEATRE                   1",
            "text/html": "<div>\n<style scoped>\n    .dataframe tbody tr th:only-of-type {\n        vertical-align: middle;\n    }\n\n    .dataframe tbody tr th {\n        vertical-align: top;\n    }\n\n    .dataframe thead th {\n        text-align: right;\n    }\n</style>\n<table border=\"1\" class=\"dataframe\">\n  <thead>\n    <tr style=\"text-align: right;\">\n      <th></th>\n      <th>PresenterName</th>\n      <th>TicketedEventCount</th>\n    </tr>\n  </thead>\n  <tbody>\n    <tr>\n      <th>0</th>\n      <td>ROANOKE RAPIDS THEATRE</td>\n      <td>6</td>\n    </tr>\n    <tr>\n      <th>1</th>\n      <td>Hillbilly Christmas in July, Inc.</td>\n      <td>1</td>\n    </tr>\n    <tr>\n      <th>2</th>\n      <td>HOWARD PERFORMING ARTS CENTER</td>\n      <td>1</td>\n    </tr>\n    <tr>\n      <th>3</th>\n      <td>Kris Kaminski - Test Offer</td>\n      <td>1</td>\n    </tr>\n    <tr>\n      <th>4</th>\n      <td>MAJESTIC THEATRE</td>\n      <td>1</td>\n    </tr>\n  </tbody>\n</table>\n</div>"
          },
          "metadata": {}
        }
      ],
      "execution_count": 5,
      "metadata": {
        "gather": {
          "logged": 1751058950077
        }
      }
    },
    {
      "cell_type": "markdown",
      "source": [
        "### 3) Offer Creation Trend by Day of Week"
      ],
      "metadata": {
        "nteract": {
          "transient": {
            "deleting": false
          }
        }
      }
    },
    {
      "cell_type": "code",
      "source": [
        "q3 = \"\"\"SELECT \n",
        "    DATENAME(WEEKDAY, CreatedDate) AS DayOfWeek,\n",
        "    COUNT(*) AS OfferCount\n",
        "FROM Offer\n",
        "GROUP BY DATENAME(WEEKDAY, CreatedDate)\n",
        "ORDER BY OfferCount DESC;\n",
        "\"\"\"\n",
        "\n",
        "df_q3 = run_query(engine, q3)\n",
        "df_q3.head()"
      ],
      "outputs": [
        {
          "output_type": "execute_result",
          "execution_count": 33,
          "data": {
            "text/plain": "  DayOfWeek  OfferCount\n0    Monday          13\n1  Saturday           9\n2    Friday           8\n3   Tuesday           6\n4  Thursday           2",
            "text/html": "<div>\n<style scoped>\n    .dataframe tbody tr th:only-of-type {\n        vertical-align: middle;\n    }\n\n    .dataframe tbody tr th {\n        vertical-align: top;\n    }\n\n    .dataframe thead th {\n        text-align: right;\n    }\n</style>\n<table border=\"1\" class=\"dataframe\">\n  <thead>\n    <tr style=\"text-align: right;\">\n      <th></th>\n      <th>DayOfWeek</th>\n      <th>OfferCount</th>\n    </tr>\n  </thead>\n  <tbody>\n    <tr>\n      <th>0</th>\n      <td>Monday</td>\n      <td>13</td>\n    </tr>\n    <tr>\n      <th>1</th>\n      <td>Saturday</td>\n      <td>9</td>\n    </tr>\n    <tr>\n      <th>2</th>\n      <td>Friday</td>\n      <td>8</td>\n    </tr>\n    <tr>\n      <th>3</th>\n      <td>Tuesday</td>\n      <td>6</td>\n    </tr>\n    <tr>\n      <th>4</th>\n      <td>Thursday</td>\n      <td>2</td>\n    </tr>\n  </tbody>\n</table>\n</div>"
          },
          "metadata": {}
        }
      ],
      "execution_count": 33,
      "metadata": {
        "gather": {
          "logged": 1751060030223
        }
      }
    },
    {
      "cell_type": "markdown",
      "source": [
        "### 4)Top Cities by Average Venue Capacity"
      ],
      "metadata": {
        "nteract": {
          "transient": {
            "deleting": false
          }
        }
      }
    },
    {
      "cell_type": "markdown",
      "source": [
        "This can guide event planning or city-level business focus."
      ],
      "metadata": {
        "nteract": {
          "transient": {
            "deleting": false
          }
        }
      }
    },
    {
      "cell_type": "code",
      "source": [
        "q4 = \"\"\"SELECT \n",
        "    MailingCity, \n",
        "    AVG(VenueCapacity) AS AvgCapacity,\n",
        "    COUNT(*) AS VenueCount\n",
        "FROM Offer\n",
        "WHERE VenueCapacity IS NOT NULL\n",
        "GROUP BY MailingCity\n",
        "ORDER BY AvgCapacity DESC\n",
        "\"\"\"\n",
        "df_q4 = run_query(engine, q4)\n",
        "df_q4.head()"
      ],
      "outputs": [
        {
          "output_type": "execute_result",
          "execution_count": 7,
          "data": {
            "text/plain": "      MailingCity  AvgCapacity  VenueCount\n0   MOUNTAIN HOME         1650           2\n1  ROANOKE RAPIDS         1500           8\n2    Prestonsburg         1100           2\n3       Lexington         1000           1\n4      Montevallo          800           1",
            "text/html": "<div>\n<style scoped>\n    .dataframe tbody tr th:only-of-type {\n        vertical-align: middle;\n    }\n\n    .dataframe tbody tr th {\n        vertical-align: top;\n    }\n\n    .dataframe thead th {\n        text-align: right;\n    }\n</style>\n<table border=\"1\" class=\"dataframe\">\n  <thead>\n    <tr style=\"text-align: right;\">\n      <th></th>\n      <th>MailingCity</th>\n      <th>AvgCapacity</th>\n      <th>VenueCount</th>\n    </tr>\n  </thead>\n  <tbody>\n    <tr>\n      <th>0</th>\n      <td>MOUNTAIN HOME</td>\n      <td>1650</td>\n      <td>2</td>\n    </tr>\n    <tr>\n      <th>1</th>\n      <td>ROANOKE RAPIDS</td>\n      <td>1500</td>\n      <td>8</td>\n    </tr>\n    <tr>\n      <th>2</th>\n      <td>Prestonsburg</td>\n      <td>1100</td>\n      <td>2</td>\n    </tr>\n    <tr>\n      <th>3</th>\n      <td>Lexington</td>\n      <td>1000</td>\n      <td>1</td>\n    </tr>\n    <tr>\n      <th>4</th>\n      <td>Montevallo</td>\n      <td>800</td>\n      <td>1</td>\n    </tr>\n  </tbody>\n</table>\n</div>"
          },
          "metadata": {}
        }
      ],
      "execution_count": 7,
      "metadata": {
        "gather": {
          "logged": 1751058953515
        }
      }
    },
    {
      "cell_type": "markdown",
      "source": [
        "## TOP Venues by Number Of Events"
      ],
      "metadata": {
        "nteract": {
          "transient": {
            "deleting": false
          }
        }
      }
    },
    {
      "cell_type": "code",
      "source": [
        "q5 = \"\"\"\n",
        "SELECT VenueName, COUNT(BlueCardId) AS EventCount\n",
        "FROM BlueCard\n",
        "WHERE VenueName IS NOT NULL AND VenueName <> ''\n",
        "GROUP BY VenueName\n",
        "ORDER BY EventCount DESC;\n",
        "\"\"\"\n",
        "\n",
        "df_q5 = run_query(engine, q5)\n",
        "df_q5.head()"
      ],
      "outputs": [
        {
          "output_type": "execute_result",
          "execution_count": 57,
          "data": {
            "text/plain": "                 VenueName  EventCount\n0                      TBD        1673\n1        Private Residence         768\n2             The Breakers         357\n3  THE FARM AT OLD EDWARDS         234\n4             Private Home         221",
            "text/html": "<div>\n<style scoped>\n    .dataframe tbody tr th:only-of-type {\n        vertical-align: middle;\n    }\n\n    .dataframe tbody tr th {\n        vertical-align: top;\n    }\n\n    .dataframe thead th {\n        text-align: right;\n    }\n</style>\n<table border=\"1\" class=\"dataframe\">\n  <thead>\n    <tr style=\"text-align: right;\">\n      <th></th>\n      <th>VenueName</th>\n      <th>EventCount</th>\n    </tr>\n  </thead>\n  <tbody>\n    <tr>\n      <th>0</th>\n      <td>TBD</td>\n      <td>1673</td>\n    </tr>\n    <tr>\n      <th>1</th>\n      <td>Private Residence</td>\n      <td>768</td>\n    </tr>\n    <tr>\n      <th>2</th>\n      <td>The Breakers</td>\n      <td>357</td>\n    </tr>\n    <tr>\n      <th>3</th>\n      <td>THE FARM AT OLD EDWARDS</td>\n      <td>234</td>\n    </tr>\n    <tr>\n      <th>4</th>\n      <td>Private Home</td>\n      <td>221</td>\n    </tr>\n  </tbody>\n</table>\n</div>"
          },
          "metadata": {}
        }
      ],
      "execution_count": 57,
      "metadata": {
        "gather": {
          "logged": 1751060891439
        }
      }
    },
    {
      "cell_type": "code",
      "source": [],
      "outputs": [],
      "execution_count": null,
      "metadata": {}
    }
  ],
  "metadata": {
    "kernelspec": {
      "name": "python310-sdkv2",
      "language": "python",
      "display_name": "Python 3.10 - SDK v2"
    },
    "language_info": {
      "name": "python",
      "version": "3.10.16",
      "mimetype": "text/x-python",
      "codemirror_mode": {
        "name": "ipython",
        "version": 3
      },
      "pygments_lexer": "ipython3",
      "nbconvert_exporter": "python",
      "file_extension": ".py"
    },
    "microsoft": {
      "ms_spell_check": {
        "ms_spell_check_language": "en"
      },
      "host": {
        "AzureML": {
          "notebookHasBeenCompleted": true
        }
      }
    },
    "kernel_info": {
      "name": "python310-sdkv2"
    },
    "nteract": {
      "version": "nteract-front-end@1.0.0"
    }
  },
  "nbformat": 4,
  "nbformat_minor": 2
}